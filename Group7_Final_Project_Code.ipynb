{
  "cells": [
    {
      "cell_type": "code",
      "execution_count": 1,
      "metadata": {
        "colab": {
          "base_uri": "https://localhost:8080/"
        },
        "id": "QnorRJgBrmaE",
        "outputId": "8a5b6f83-869f-42a5-d638-26abbf3b2202"
      },
      "outputs": [
        {
          "name": "stdout",
          "output_type": "stream",
          "text": [
            "   Unnamed: 0                       Track.Name    Artist.Name           Genre  \\\n",
            "0           1                         Señorita   Shawn Mendes    canadian pop   \n",
            "1           2                            China       Anuel AA  reggaeton flow   \n",
            "2           3    boyfriend (with Social House)  Ariana Grande       dance pop   \n",
            "3           4  Beautiful People (feat. Khalid)     Ed Sheeran             pop   \n",
            "4           5      Goodbyes (Feat. Young Thug)    Post Malone         dfw rap   \n",
            "\n",
            "   Beats.Per.Minute  Energy  Danceability  Loudness..dB..  Liveness  Valence.  \\\n",
            "0               117      55            76              -6         8        75   \n",
            "1               105      81            79              -4         8        61   \n",
            "2               190      80            40              -4        16        70   \n",
            "3                93      65            64              -8         8        55   \n",
            "4               150      65            58              -4        11        18   \n",
            "\n",
            "   Length.  Acousticness..  Speechiness.  Popularity  \n",
            "0      191               4             3          79  \n",
            "1      302               8             9          92  \n",
            "2      186              12            46          85  \n",
            "3      198              12            19          86  \n",
            "4      175              45             7          94  \n"
          ]
        }
      ],
      "source": [
        "import pandas as pd\n",
        "import statistics\n",
        "from numpy import mean\n",
        "from matplotlib import pyplot as plt\n",
        "#df=pd.read_csv(\"/Users/baileylarea/Downloads/top50.csv\", encoding=\"ISO-8859-1\")\n",
        "df = pd.read_csv(r\"C:\\Users\\innes\\Downloads\\Datasets\\top50.csv\", encoding = \"ISO-8859-1\")\n",
        "print(df.head())"
      ]
    },
    {
      "cell_type": "code",
      "execution_count": 2,
      "metadata": {
        "id": "MIVpDZv3rpn7"
      },
      "outputs": [],
      "source": [
        "import os\n",
        "import warnings\n",
        "\n",
        "warnings.filterwarnings('ignore') #filtering out any warning messages"
      ]
    },
    {
      "cell_type": "code",
      "execution_count": 3,
      "metadata": {
        "colab": {
          "base_uri": "https://localhost:8080/"
        },
        "id": "1s03swFBrrzO",
        "outputId": "d12af4aa-b1d5-4384-e232-f85a5f25e444"
      },
      "outputs": [
        {
          "name": "stdout",
          "output_type": "stream",
          "text": [
            "   Unnamed: 0                        TrackName     ArtistName           Genre  \\\n",
            "0           1                         Señorita   Shawn Mendes    canadian pop   \n",
            "1           2                            China       Anuel AA  reggaeton flow   \n",
            "2           3    boyfriend (with Social House)  Ariana Grande       dance pop   \n",
            "3           4  Beautiful People (feat. Khalid)     Ed Sheeran             pop   \n",
            "4           5      Goodbyes (Feat. Young Thug)    Post Malone         dfw rap   \n",
            "\n",
            "   BeatsPerMinute  Energy  Danceability  LoudnessdB  Liveness  Valence  \\\n",
            "0             117      55            76          -6         8       75   \n",
            "1             105      81            79          -4         8       61   \n",
            "2             190      80            40          -4        16       70   \n",
            "3              93      65            64          -8         8       55   \n",
            "4             150      65            58          -4        11       18   \n",
            "\n",
            "   Length  Acousticness  Speechiness  Popularity  \n",
            "0     191             4            3          79  \n",
            "1     302             8            9          92  \n",
            "2     186            12           46          85  \n",
            "3     198            12           19          86  \n",
            "4     175            45            7          94  \n"
          ]
        }
      ],
      "source": [
        "df = df.rename(columns={'Track.Name': 'TrackName', 'Artist.Name': 'ArtistName', 'Beats.Per.Minute':'BeatsPerMinute', 'Loudness..dB..':'LoudnessdB','Valence.':'Valence', 'Length.':'Length', 'Acousticness..':'Acousticness','Speechiness.':'Speechiness'})\n",
        "print((df).head(5))"
      ]
    },
    {
      "cell_type": "code",
      "execution_count": 4,
      "metadata": {
        "colab": {
          "base_uri": "https://localhost:8080/"
        },
        "id": "G52uykGart6b",
        "outputId": "2acfc69b-00bd-41d9-89bf-d08437e8e5a8"
      },
      "outputs": [
        {
          "name": "stdout",
          "output_type": "stream",
          "text": [
            "Counter({'dance pop': 8, 'pop': 7, 'latin': 5, 'canadian hip hop': 3, 'edm': 3, 'canadian pop': 2, 'reggaeton flow': 2, 'dfw rap': 2, 'country rap': 2, 'electropop': 2, 'reggaeton': 2, 'panamanian pop': 2, 'brostep': 2, 'trap music': 1, 'escape room': 1, 'pop house': 1, 'australian pop': 1, 'atl hip hop': 1, 'big room': 1, 'boy band': 1, 'r&b en espanol': 1})\n"
          ]
        }
      ],
      "source": [
        "from collections import Counter\n",
        "genrevalues=(Counter(df['Genre'].values))\n",
        "print(genrevalues)"
      ]
    },
    {
      "cell_type": "code",
      "execution_count": 5,
      "metadata": {
        "colab": {
          "base_uri": "https://localhost:8080/"
        },
        "id": "kwuD27edrxLO",
        "outputId": "516292ac-8452-49d7-c36c-5058b87c2964"
      },
      "outputs": [
        {
          "name": "stdout",
          "output_type": "stream",
          "text": [
            "    Unnamed: 0                                 TrackName     ArtistName  \\\n",
            "9           10                                   bad guy  Billie Eilish   \n",
            "4            5               Goodbyes (Feat. Young Thug)    Post Malone   \n",
            "10          11                                  Callaita      Bad Bunny   \n",
            "14          15  Money In The Grave (Drake ft. Rick Ross)          Drake   \n",
            "1            2                                     China       Anuel AA   \n",
            "\n",
            "               Genre  BeatsPerMinute  Energy  Danceability  LoudnessdB  \\\n",
            "9         electropop             135      43            70         -11   \n",
            "4            dfw rap             150      65            58          -4   \n",
            "10         reggaeton             176      62            61          -5   \n",
            "14  canadian hip hop             101      50            83          -4   \n",
            "1     reggaeton flow             105      81            79          -4   \n",
            "\n",
            "    Liveness  Valence  Length  Acousticness  Speechiness  Popularity  \n",
            "9         10       56     194            33           38          95  \n",
            "4         11       18     175            45            7          94  \n",
            "10        24       24     251            60           31          93  \n",
            "14        12       10     205            10            5          92  \n",
            "1          8       61     302             8            9          92  \n"
          ]
        }
      ],
      "source": [
        "popsort=df.sort_values('Popularity', ascending=False, inplace=True)\n",
        "print(df.head())"
      ]
    },
    {
      "cell_type": "code",
      "execution_count": 6,
      "metadata": {
        "colab": {
          "base_uri": "https://localhost:8080/"
        },
        "id": "sLvB-afArzd3",
        "outputId": "283d9348-f4be-4f06-b883-4d15a84e2aaa"
      },
      "outputs": [
        {
          "name": "stdout",
          "output_type": "stream",
          "text": [
            "[('dance pop', 8), ('pop', 7), ('latin', 5), ('canadian hip hop', 3), ('edm', 3)]\n"
          ]
        }
      ],
      "source": [
        "mostpopgenres=((genrevalues).most_common(5))\n",
        "print(mostpopgenres)"
      ]
    },
    {
      "cell_type": "code",
      "execution_count": 7,
      "metadata": {
        "colab": {
          "base_uri": "https://localhost:8080/",
          "height": 281
        },
        "id": "pj7J31bQrzk6",
        "outputId": "b3e0e085-bcc0-4626-efc8-320b187885b7"
      },
      "outputs": [
        {
          "data": {
            "image/png": "[encoded data removed]",
            "text/plain": [
              "<Figure size 432x288 with 1 Axes>"
            ]
          },
          "metadata": {
            "needs_background": "light"
          },
          "output_type": "display_data"
        }
      ],
      "source": [
        "import matplotlib.pyplot as plt\n",
        "bar_plot=dict(mostpopgenres)\n",
        "plt.bar(*zip(*bar_plot.items()))\n",
        "plt.title('Most Popular Genres')\n",
        "plt.show()"
      ]
    },
    {
      "cell_type": "code",
      "execution_count": 8,
      "metadata": {
        "colab": {
          "base_uri": "https://localhost:8080/"
        },
        "id": "LIGDuWTarzpk",
        "outputId": "014a4fb2-a956-45b1-c117-b117e90f529b"
      },
      "outputs": [
        {
          "data": {
            "text/plain": [
              "{'Ed Sheeran': 4,\n",
              " 'Billie Eilish': 2,\n",
              " 'Post Malone': 2,\n",
              " 'Sech': 2,\n",
              " 'Lil Nas X': 2}"
            ]
          },
          "execution_count": 8,
          "metadata": {},
          "output_type": "execute_result"
        }
      ],
      "source": [
        "mostpopartists=dict(Counter(df['ArtistName'].values).most_common(5))\n",
        "mostpopartists"
      ]
    },
    {
      "cell_type": "code",
      "execution_count": 9,
      "metadata": {
        "colab": {
          "base_uri": "https://localhost:8080/",
          "height": 281
        },
        "id": "ZLoA6egMrztQ",
        "outputId": "28e560b5-73e9-45e9-cc0c-a46adc1ef536"
      },
      "outputs": [
        {
          "data": {
            "image/png": "[encoded data removed]",
            "text/plain": [
              "<Figure size 432x288 with 1 Axes>"
            ]
          },
          "metadata": {
            "needs_background": "light"
          },
          "output_type": "display_data"
        }
      ],
      "source": [
        "bar_plot=dict(mostpopartists)\n",
        "plt.bar(*zip(*bar_plot.items()))\n",
        "plt.title(\"Most Popular Artists\")\n",
        "plt.show()"
      ]
    },
    {
      "cell_type": "code",
      "execution_count": 10,
      "metadata": {
        "id": "751grHymr9BD"
      },
      "outputs": [],
      "source": [
        "### Finding the average amount of \"liveness\""
      ]
    },
    {
      "cell_type": "code",
      "execution_count": 11,
      "metadata": {
        "colab": {
          "base_uri": "https://localhost:8080/",
          "height": 298
        },
        "id": "MEs62Wpxrzw6",
        "outputId": "f7aee13e-fbef-4436-87ff-1f619969e61d"
      },
      "outputs": [
        {
          "name": "stdout",
          "output_type": "stream",
          "text": [
            "14.66\n"
          ]
        },
        {
          "data": {
            "image/png": "[encoded data removed]",
            "text/plain": [
              "<Figure size 432x288 with 1 Axes>"
            ]
          },
          "metadata": {
            "needs_background": "light"
          },
          "output_type": "display_data"
        }
      ],
      "source": [
        "avglive=(mean(df['Liveness'].values))\n",
        "print(avglive)\n",
        "\n",
        "plt.hist(df['Liveness'].values)\n",
        "plt.title(\"Histogram of Liveness\")\n",
        "plt.show()"
      ]
    },
    {
      "cell_type": "code",
      "execution_count": 12,
      "metadata": {
        "id": "ESbE_xdArzzz"
      },
      "outputs": [],
      "source": [
        "### Finding the average amount of \"valence\""
      ]
    },
    {
      "cell_type": "code",
      "execution_count": 13,
      "metadata": {
        "colab": {
          "base_uri": "https://localhost:8080/",
          "height": 298
        },
        "id": "8PZEMC3srz3O",
        "outputId": "53bc8abb-68f6-4c4e-9a15-6c483feabc9b"
      },
      "outputs": [
        {
          "name": "stdout",
          "output_type": "stream",
          "text": [
            "54.6\n"
          ]
        },
        {
          "data": {
            "image/png": "[encoded data removed]",
            "text/plain": [
              "<Figure size 432x288 with 1 Axes>"
            ]
          },
          "metadata": {
            "needs_background": "light"
          },
          "output_type": "display_data"
        }
      ],
      "source": [
        "avgval=(mean(df['Valence'].values))\n",
        "print(avgval)\n",
        "\n",
        "plt.hist(df['Valence'].values)\n",
        "plt.title(\"Histogram of Valence\")\n",
        "plt.show()"
      ]
    },
    {
      "cell_type": "code",
      "execution_count": 14,
      "metadata": {
        "id": "mTESvTGGsCAY"
      },
      "outputs": [],
      "source": [
        "### Finding the average amount of \"loudness\" in decibels (dB)"
      ]
    },
    {
      "cell_type": "code",
      "execution_count": 15,
      "metadata": {
        "colab": {
          "base_uri": "https://localhost:8080/",
          "height": 298
        },
        "id": "kTxmWnfksCDR",
        "outputId": "dc005e3c-8fac-4484-b003-af996d07b456"
      },
      "outputs": [
        {
          "name": "stdout",
          "output_type": "stream",
          "text": [
            "-5.66\n"
          ]
        },
        {
          "data": {
            "image/png": "[encoded data removed]",
            "text/plain": [
              "<Figure size 432x288 with 1 Axes>"
            ]
          },
          "metadata": {
            "needs_background": "light"
          },
          "output_type": "display_data"
        }
      ],
      "source": [
        "avgloud=(mean(df['LoudnessdB'].values))\n",
        "print(avgloud)\n",
        "plt.hist(df['LoudnessdB'].values)\n",
        "plt.title(\"Histogram of Loudness in dB\")\n",
        "plt.show()"
      ]
    },
    {
      "cell_type": "code",
      "execution_count": 16,
      "metadata": {
        "id": "fpH0u979sCGN"
      },
      "outputs": [],
      "source": [
        "### Finding the average amount of \"danceability\""
      ]
    },
    {
      "cell_type": "code",
      "execution_count": 17,
      "metadata": {
        "colab": {
          "base_uri": "https://localhost:8080/",
          "height": 298
        },
        "id": "cUxwfBW3sCI8",
        "outputId": "3d74cea9-8aa1-4e1f-f0f1-0ab0e483a86b"
      },
      "outputs": [
        {
          "name": "stdout",
          "output_type": "stream",
          "text": [
            "71.38\n"
          ]
        },
        {
          "data": {
            "image/png": "[encoded data removed]",
            "text/plain": [
              "<Figure size 432x288 with 1 Axes>"
            ]
          },
          "metadata": {
            "needs_background": "light"
          },
          "output_type": "display_data"
        }
      ],
      "source": [
        "avgdance=(mean(df['Danceability'].values))\n",
        "print(avgdance)\n",
        "\n",
        "plt.hist(df['Danceability'].values)\n",
        "plt.title(\"Histogram of Danceability\")\n",
        "plt.show()"
      ]
    },
    {
      "cell_type": "code",
      "execution_count": 18,
      "metadata": {
        "id": "mcypUt5jsCLk"
      },
      "outputs": [],
      "source": [
        "### Finding the average amount of \"beats per minute\" (bpm)"
      ]
    },
    {
      "cell_type": "code",
      "execution_count": 19,
      "metadata": {
        "colab": {
          "base_uri": "https://localhost:8080/",
          "height": 298
        },
        "id": "CtyPgOvZsCON",
        "outputId": "d3e654f7-edf0-47a9-988e-da2d9529c71c"
      },
      "outputs": [
        {
          "name": "stdout",
          "output_type": "stream",
          "text": [
            "120.06\n"
          ]
        },
        {
          "data": {
            "image/png": "[encoded data removed]",
            "text/plain": [
              "<Figure size 432x288 with 1 Axes>"
            ]
          },
          "metadata": {
            "needs_background": "light"
          },
          "output_type": "display_data"
        }
      ],
      "source": [
        "avgbpm=(mean(df['BeatsPerMinute'].values))\n",
        "print(avgbpm)\n",
        "\n",
        "plt.hist(df['BeatsPerMinute'].values)\n",
        "plt.title(\"Histogram of Beats Per Minute (bpm)\")\n",
        "plt.show()"
      ]
    },
    {
      "cell_type": "code",
      "execution_count": 20,
      "metadata": {
        "id": "PNnlI-ZJsCRs"
      },
      "outputs": [
        {
          "name": "stdout",
          "output_type": "stream",
          "text": [
            "87.5\n"
          ]
        }
      ],
      "source": [
        "### Finding the average score of \"popularity\"\n",
        "avgpop=(mean(df['Popularity'].values))\n",
        "print(avgpop)"
      ]
    },
    {
      "cell_type": "code",
      "execution_count": 21,
      "metadata": {
        "colab": {
          "base_uri": "https://localhost:8080/",
          "height": 298
        },
        "id": "mVxSRquDsCTt",
        "outputId": "cbc0e86d-c106-466f-8cd1-f012b5f3132e"
      },
      "outputs": [
        {
          "name": "stdout",
          "output_type": "stream",
          "text": [
            "12.48\n"
          ]
        },
        {
          "data": {
            "image/png": "[encoded data removed]",
            "text/plain": [
              "<Figure size 432x288 with 1 Axes>"
            ]
          },
          "metadata": {
            "needs_background": "light"
          },
          "output_type": "display_data"
        }
      ],
      "source": [
        "avgspeech=(mean(df['Speechiness'].values))\n",
        "print(avgspeech)\n",
        "\n",
        "plt.hist(df['Speechiness'].values)\n",
        "plt.title(\"Histogram of Speechiness\")\n",
        "plt.show()"
      ]
    },
    {
      "cell_type": "code",
      "execution_count": 22,
      "metadata": {
        "id": "eKfOaPL8sCdR"
      },
      "outputs": [],
      "source": [
        "### Finding the average amount of \"acousticness\""
      ]
    },
    {
      "cell_type": "code",
      "execution_count": 23,
      "metadata": {
        "colab": {
          "base_uri": "https://localhost:8080/",
          "height": 298
        },
        "id": "CV9oxL7ysCjg",
        "outputId": "6cc96f89-f124-49dc-cfb8-414e3bf13368"
      },
      "outputs": [
        {
          "name": "stdout",
          "output_type": "stream",
          "text": [
            "22.16\n"
          ]
        },
        {
          "data": {
            "image/png": "[encoded data removed]",
            "text/plain": [
              "<Figure size 432x288 with 1 Axes>"
            ]
          },
          "metadata": {
            "needs_background": "light"
          },
          "output_type": "display_data"
        }
      ],
      "source": [
        "avgacc=(mean(df['Acousticness'].values))\n",
        "print(avgacc)\n",
        "\n",
        "plt.hist(df['Acousticness'].values)\n",
        "plt.title(\"Histogram of Acousticness\")\n",
        "plt.show()"
      ]
    },
    {
      "cell_type": "code",
      "execution_count": 24,
      "metadata": {
        "id": "MkjTCsFisCnd"
      },
      "outputs": [],
      "source": [
        "### Finding the average \"length\" of the song"
      ]
    },
    {
      "cell_type": "code",
      "execution_count": 25,
      "metadata": {
        "colab": {
          "base_uri": "https://localhost:8080/",
          "height": 298
        },
        "id": "XbHV2Or0sCrn",
        "outputId": "f5f6273a-7db5-42d9-9eff-472470f3cc2d"
      },
      "outputs": [
        {
          "name": "stdout",
          "output_type": "stream",
          "text": [
            "200.96\n"
          ]
        },
        {
          "data": {
            "image/png": "[encoded data removed]",
            "text/plain": [
              "<Figure size 432x288 with 1 Axes>"
            ]
          },
          "metadata": {
            "needs_background": "light"
          },
          "output_type": "display_data"
        }
      ],
      "source": [
        "avglength=(mean(df['Length'].values))\n",
        "print(avglength)\n",
        "\n",
        "plt.hist(df['Length'].values)\n",
        "plt.title(\"Histogram of the Length of the Songs\")\n",
        "plt.show()"
      ]
    },
    {
      "cell_type": "markdown",
      "metadata": {
        "id": "ocrO3NNFFuTq"
      },
      "source": [
        "Baseline: Linear Regression"
      ]
    },
    {
      "cell_type": "code",
      "execution_count": 26,
      "metadata": {
        "colab": {
          "base_uri": "https://localhost:8080/",
          "height": 389
        },
        "id": "COvnX6ShsCzS",
        "outputId": "11cdcde2-cee8-4596-e821-9112b27cd50b"
      },
      "outputs": [],
      "source": [
        "from sklearn.linear_model import LinearRegression\n",
        "from sklearn.linear_model import LogisticRegression\n",
        "from sklearn.ensemble import RandomForestClassifier\n",
        "from sklearn.neighbors import KNeighborsClassifier\n",
        "from sklearn.tree import DecisionTreeClassifier\n",
        "from sklearn.svm import SVC, LinearSVC\n",
        "\n",
        "from sklearn.metrics import make_scorer, accuracy_score, roc_auc_score \n",
        "from sklearn.model_selection import GridSearchCV\n",
        "from sklearn.model_selection import train_test_split\n",
        "\n",
        "import numpy as np\n",
        "import pandas as pd\n",
        "import seaborn as sns\n",
        "\n",
        "#data=pd.read_csv(\"/Users/baileylarea/Downloads/2019songs.csv\")\n",
        "#data = pd.read_csv(r'C:\\Users\\innes\\Downloads\\Datasets\\2019songs.csv')\n",
        "data = pd.read_csv(r'C:\\Users\\innes\\Downloads\\Datasets\\2019_songs_API.csv', encoding = \"ISO-8859-1\") # encoding for special characters "
      ]
    },
    {
      "cell_type": "code",
      "execution_count": 27,
      "metadata": {
        "id": "1NNyS9WusC2s"
      },
      "outputs": [],
      "source": [
        "data.dropna(inplace=True) # dropping NAs "
      ]
    },
    {
      "cell_type": "code",
      "execution_count": 28,
      "metadata": {
        "colab": {
          "base_uri": "https://localhost:8080/",
          "height": 1000
        },
        "id": "SannngD5slnb",
        "outputId": "1150bce9-8cb0-4bd6-e459-201904edf0f1"
      },
      "outputs": [
        {
          "data": {
            "text/html": [
              "<div>\n",
              "<style scoped>\n",
              "    .dataframe tbody tr th:only-of-type {\n",
              "        vertical-align: middle;\n",
              "    }\n",
              "\n",
              "    .dataframe tbody tr th {\n",
              "        vertical-align: top;\n",
              "    }\n",
              "\n",
              "    .dataframe thead th {\n",
              "        text-align: right;\n",
              "    }\n",
              "</style>\n",
              "<table border=\"1\" class=\"dataframe\">\n",
              "  <thead>\n",
              "    <tr style=\"text-align: right;\">\n",
              "      <th></th>\n",
              "      <th>id</th>\n",
              "      <th>name</th>\n",
              "      <th>popularity</th>\n",
              "      <th>duration_ms</th>\n",
              "      <th>explicit</th>\n",
              "      <th>artists</th>\n",
              "      <th>id_artists</th>\n",
              "      <th>release_date</th>\n",
              "      <th>danceability</th>\n",
              "      <th>energy</th>\n",
              "      <th>key</th>\n",
              "      <th>loudness</th>\n",
              "      <th>mode</th>\n",
              "      <th>speechiness</th>\n",
              "      <th>acousticness</th>\n",
              "      <th>instrumentalness</th>\n",
              "      <th>liveness</th>\n",
              "      <th>valence</th>\n",
              "      <th>tempo</th>\n",
              "      <th>time_signature</th>\n",
              "    </tr>\n",
              "  </thead>\n",
              "  <tbody>\n",
              "    <tr>\n",
              "      <th>0</th>\n",
              "      <td>4zP7ADsgJgHGY6VzxbNp1z</td>\n",
              "      <td>Year 3000</td>\n",
              "      <td>67</td>\n",
              "      <td>201960</td>\n",
              "      <td>0</td>\n",
              "      <td>['Jonas Brothers']</td>\n",
              "      <td>['7gOdHgIoIKoe4i9Tta6qdD']</td>\n",
              "      <td>5/9/2019</td>\n",
              "      <td>0.659</td>\n",
              "      <td>0.857</td>\n",
              "      <td>11</td>\n",
              "      <td>-5.850</td>\n",
              "      <td>1</td>\n",
              "      <td>0.0437</td>\n",
              "      <td>0.004500</td>\n",
              "      <td>0.000002</td>\n",
              "      <td>0.3350</td>\n",
              "      <td>0.798</td>\n",
              "      <td>106.965</td>\n",
              "      <td>4</td>\n",
              "    </tr>\n",
              "    <tr>\n",
              "      <th>1</th>\n",
              "      <td>5Q8lhXskGhfVIMbRMGi9nk</td>\n",
              "      <td>Logical Brain - Year 3000 Mix</td>\n",
              "      <td>8</td>\n",
              "      <td>216705</td>\n",
              "      <td>0</td>\n",
              "      <td>['Electro Mann']</td>\n",
              "      <td>['715ETHjAlf1sXM4vFEmxjT']</td>\n",
              "      <td>10/24/2019</td>\n",
              "      <td>0.745</td>\n",
              "      <td>0.732</td>\n",
              "      <td>9</td>\n",
              "      <td>-11.286</td>\n",
              "      <td>1</td>\n",
              "      <td>0.0759</td>\n",
              "      <td>0.083200</td>\n",
              "      <td>0.929000</td>\n",
              "      <td>0.0691</td>\n",
              "      <td>0.954</td>\n",
              "      <td>125.000</td>\n",
              "      <td>4</td>\n",
              "    </tr>\n",
              "    <tr>\n",
              "      <th>2</th>\n",
              "      <td>6GEOjP12NG6wnuQIg6NC5A</td>\n",
              "      <td>3000 Years of Lies - Original Version</td>\n",
              "      <td>9</td>\n",
              "      <td>308824</td>\n",
              "      <td>0</td>\n",
              "      <td>['UVB']</td>\n",
              "      <td>['1LiE3TKOyCds5GgIaBRRRs']</td>\n",
              "      <td>2/8/2019</td>\n",
              "      <td>0.699</td>\n",
              "      <td>0.994</td>\n",
              "      <td>7</td>\n",
              "      <td>-5.869</td>\n",
              "      <td>1</td>\n",
              "      <td>0.0442</td>\n",
              "      <td>0.000623</td>\n",
              "      <td>0.703000</td>\n",
              "      <td>0.1590</td>\n",
              "      <td>0.131</td>\n",
              "      <td>135.998</td>\n",
              "      <td>4</td>\n",
              "    </tr>\n",
              "    <tr>\n",
              "      <th>3</th>\n",
              "      <td>0soQcQgZGxvHa3MyQMVfes</td>\n",
              "      <td>Year 3000 (Live)</td>\n",
              "      <td>0</td>\n",
              "      <td>188145</td>\n",
              "      <td>0</td>\n",
              "      <td>['The Friars']</td>\n",
              "      <td>['6Fb8ldZIVQEaszpTmZh0Du']</td>\n",
              "      <td>4/11/2019</td>\n",
              "      <td>0.621</td>\n",
              "      <td>0.678</td>\n",
              "      <td>6</td>\n",
              "      <td>-6.274</td>\n",
              "      <td>1</td>\n",
              "      <td>0.0665</td>\n",
              "      <td>0.706000</td>\n",
              "      <td>0.000000</td>\n",
              "      <td>0.8260</td>\n",
              "      <td>0.586</td>\n",
              "      <td>102.392</td>\n",
              "      <td>4</td>\n",
              "    </tr>\n",
              "    <tr>\n",
              "      <th>4</th>\n",
              "      <td>5g5fyKQcR8H5U5c7znvrgs</td>\n",
              "      <td>The Year 3000</td>\n",
              "      <td>0</td>\n",
              "      <td>393676</td>\n",
              "      <td>0</td>\n",
              "      <td>['Reza Golroo']</td>\n",
              "      <td>['5PgfADiJty3IuidZvOoFYM']</td>\n",
              "      <td>3/1/2019</td>\n",
              "      <td>0.797</td>\n",
              "      <td>0.715</td>\n",
              "      <td>0</td>\n",
              "      <td>-7.496</td>\n",
              "      <td>1</td>\n",
              "      <td>0.0509</td>\n",
              "      <td>0.009030</td>\n",
              "      <td>0.818000</td>\n",
              "      <td>0.0624</td>\n",
              "      <td>0.290</td>\n",
              "      <td>127.992</td>\n",
              "      <td>4</td>\n",
              "    </tr>\n",
              "  </tbody>\n",
              "</table>\n",
              "</div>"
            ],
            "text/plain": [
              "                       id                                   name  popularity  \\\n",
              "0  4zP7ADsgJgHGY6VzxbNp1z                              Year 3000          67   \n",
              "1  5Q8lhXskGhfVIMbRMGi9nk          Logical Brain - Year 3000 Mix           8   \n",
              "2  6GEOjP12NG6wnuQIg6NC5A  3000 Years of Lies - Original Version           9   \n",
              "3  0soQcQgZGxvHa3MyQMVfes                       Year 3000 (Live)           0   \n",
              "4  5g5fyKQcR8H5U5c7znvrgs                          The Year 3000           0   \n",
              "\n",
              "   duration_ms  explicit             artists                  id_artists  \\\n",
              "0       201960         0  ['Jonas Brothers']  ['7gOdHgIoIKoe4i9Tta6qdD']   \n",
              "1       216705         0    ['Electro Mann']  ['715ETHjAlf1sXM4vFEmxjT']   \n",
              "2       308824         0             ['UVB']  ['1LiE3TKOyCds5GgIaBRRRs']   \n",
              "3       188145         0      ['The Friars']  ['6Fb8ldZIVQEaszpTmZh0Du']   \n",
              "4       393676         0     ['Reza Golroo']  ['5PgfADiJty3IuidZvOoFYM']   \n",
              "\n",
              "  release_date  danceability  energy  key  loudness  mode  speechiness  \\\n",
              "0     5/9/2019         0.659   0.857   11    -5.850     1       0.0437   \n",
              "1   10/24/2019         0.745   0.732    9   -11.286     1       0.0759   \n",
              "2     2/8/2019         0.699   0.994    7    -5.869     1       0.0442   \n",
              "3    4/11/2019         0.621   0.678    6    -6.274     1       0.0665   \n",
              "4     3/1/2019         0.797   0.715    0    -7.496     1       0.0509   \n",
              "\n",
              "   acousticness  instrumentalness  liveness  valence    tempo  time_signature  \n",
              "0      0.004500          0.000002    0.3350    0.798  106.965               4  \n",
              "1      0.083200          0.929000    0.0691    0.954  125.000               4  \n",
              "2      0.000623          0.703000    0.1590    0.131  135.998               4  \n",
              "3      0.706000          0.000000    0.8260    0.586  102.392               4  \n",
              "4      0.009030          0.818000    0.0624    0.290  127.992               4  "
            ]
          },
          "execution_count": 28,
          "metadata": {},
          "output_type": "execute_result"
        }
      ],
      "source": [
        "data.head(5) #print first 5 rows "
      ]
    },
    {
      "cell_type": "code",
      "execution_count": 29,
      "metadata": {
        "id": "o9afDYvislpA"
      },
      "outputs": [],
      "source": [
        "data = pd.get_dummies(data, columns=['time_signature', 'key', 'mode'], drop_first=True) # get dummies \n",
        "\n",
        "pd.options.display.max_columns = None"
      ]
    },
    {
      "cell_type": "code",
      "execution_count": 30,
      "metadata": {
        "id": "UuomSOR_slsH"
      },
      "outputs": [],
      "source": [
        "# defining our features\n",
        "features = [\"acousticness\", \"danceability\", \"duration_ms\", \"energy\", \"instrumentalness\",   \n",
        "            \"liveness\", \"loudness\", \"tempo\",  \"valence\"]\n",
        "\n",
        "\n",
        "X = data[features]\n",
        "Y = data['popularity']"
      ]
    },
    {
      "cell_type": "code",
      "execution_count": 31,
      "metadata": {
        "id": "QB1sfnJGslvS"
      },
      "outputs": [],
      "source": [
        "features_2 = ['acousticness', 'instrumentalness', 'loudness','energy']\n",
        "#X_train, X_test, Y_train, Y_test = train_test_split(X[features_2], Y, test_size=0.3, random_state=8)\n"
      ]
    },
    {
      "cell_type": "code",
      "execution_count": 32,
      "metadata": {},
      "outputs": [
        {
          "data": {
            "image/png": "[encoded data removed]",
            "text/plain": [
              "<Figure size 1800x1080 with 2 Axes>"
            ]
          },
          "metadata": {
            "needs_background": "light"
          },
          "output_type": "display_data"
        }
      ],
      "source": [
        "# creating a heatmap for the correlations \n",
        "corrMatrix = data.corr()\n",
        "plt.figure(figsize=(25,15))\n",
        "sns.heatmap(corrMatrix, annot=True)\n",
        "plt.show()\n"
      ]
    },
    {
      "cell_type": "code",
      "execution_count": 33,
      "metadata": {},
      "outputs": [
        {
          "data": {
            "text/html": [
              "<div>\n",
              "<style scoped>\n",
              "    .dataframe tbody tr th:only-of-type {\n",
              "        vertical-align: middle;\n",
              "    }\n",
              "\n",
              "    .dataframe tbody tr th {\n",
              "        vertical-align: top;\n",
              "    }\n",
              "\n",
              "    .dataframe thead th {\n",
              "        text-align: right;\n",
              "    }\n",
              "</style>\n",
              "<table border=\"1\" class=\"dataframe\">\n",
              "  <thead>\n",
              "    <tr style=\"text-align: right;\">\n",
              "      <th></th>\n",
              "      <th>popularity</th>\n",
              "      <th>duration_ms</th>\n",
              "      <th>explicit</th>\n",
              "      <th>danceability</th>\n",
              "      <th>energy</th>\n",
              "      <th>loudness</th>\n",
              "      <th>speechiness</th>\n",
              "      <th>acousticness</th>\n",
              "      <th>instrumentalness</th>\n",
              "      <th>liveness</th>\n",
              "      <th>valence</th>\n",
              "      <th>tempo</th>\n",
              "      <th>time_signature_1</th>\n",
              "      <th>time_signature_3</th>\n",
              "      <th>time_signature_4</th>\n",
              "      <th>time_signature_5</th>\n",
              "      <th>key_1</th>\n",
              "      <th>key_2</th>\n",
              "      <th>key_3</th>\n",
              "      <th>key_4</th>\n",
              "      <th>key_5</th>\n",
              "      <th>key_6</th>\n",
              "      <th>key_7</th>\n",
              "      <th>key_8</th>\n",
              "      <th>key_9</th>\n",
              "      <th>key_10</th>\n",
              "      <th>key_11</th>\n",
              "      <th>mode_1</th>\n",
              "    </tr>\n",
              "  </thead>\n",
              "  <tbody>\n",
              "    <tr>\n",
              "      <th>popularity</th>\n",
              "      <td>1.000000</td>\n",
              "      <td>-0.147147</td>\n",
              "      <td>0.155392</td>\n",
              "      <td>0.193814</td>\n",
              "      <td>-0.102099</td>\n",
              "      <td>0.170810</td>\n",
              "      <td>0.061784</td>\n",
              "      <td>0.117704</td>\n",
              "      <td>-0.417007</td>\n",
              "      <td>-0.107463</td>\n",
              "      <td>0.113404</td>\n",
              "      <td>-0.023634</td>\n",
              "      <td>-0.004033</td>\n",
              "      <td>-0.002260</td>\n",
              "      <td>-0.001143</td>\n",
              "      <td>0.007348</td>\n",
              "      <td>0.013852</td>\n",
              "      <td>-0.031502</td>\n",
              "      <td>0.025115</td>\n",
              "      <td>-0.025322</td>\n",
              "      <td>0.011992</td>\n",
              "      <td>0.012256</td>\n",
              "      <td>-0.031497</td>\n",
              "      <td>0.039321</td>\n",
              "      <td>-0.020950</td>\n",
              "      <td>0.007592</td>\n",
              "      <td>0.008489</td>\n",
              "      <td>-0.009488</td>\n",
              "    </tr>\n",
              "    <tr>\n",
              "      <th>duration_ms</th>\n",
              "      <td>-0.147147</td>\n",
              "      <td>1.000000</td>\n",
              "      <td>-0.082648</td>\n",
              "      <td>-0.121470</td>\n",
              "      <td>0.033802</td>\n",
              "      <td>0.013959</td>\n",
              "      <td>-0.104894</td>\n",
              "      <td>-0.021703</td>\n",
              "      <td>0.102895</td>\n",
              "      <td>0.036597</td>\n",
              "      <td>-0.109888</td>\n",
              "      <td>0.016473</td>\n",
              "      <td>-0.000718</td>\n",
              "      <td>-0.000432</td>\n",
              "      <td>0.025068</td>\n",
              "      <td>-0.033851</td>\n",
              "      <td>0.005349</td>\n",
              "      <td>-0.001336</td>\n",
              "      <td>-0.009369</td>\n",
              "      <td>0.004886</td>\n",
              "      <td>-0.006388</td>\n",
              "      <td>-0.009624</td>\n",
              "      <td>0.026924</td>\n",
              "      <td>-0.014791</td>\n",
              "      <td>0.010972</td>\n",
              "      <td>-0.003051</td>\n",
              "      <td>-0.011725</td>\n",
              "      <td>0.040919</td>\n",
              "    </tr>\n",
              "    <tr>\n",
              "      <th>explicit</th>\n",
              "      <td>0.155392</td>\n",
              "      <td>-0.082648</td>\n",
              "      <td>1.000000</td>\n",
              "      <td>0.290529</td>\n",
              "      <td>-0.005351</td>\n",
              "      <td>0.022977</td>\n",
              "      <td>0.379301</td>\n",
              "      <td>-0.061392</td>\n",
              "      <td>-0.122278</td>\n",
              "      <td>-0.061529</td>\n",
              "      <td>0.005151</td>\n",
              "      <td>-0.003159</td>\n",
              "      <td>0.008255</td>\n",
              "      <td>-0.053603</td>\n",
              "      <td>0.039658</td>\n",
              "      <td>0.015348</td>\n",
              "      <td>0.047144</td>\n",
              "      <td>0.003683</td>\n",
              "      <td>-0.031289</td>\n",
              "      <td>-0.019780</td>\n",
              "      <td>0.003208</td>\n",
              "      <td>0.002750</td>\n",
              "      <td>-0.011442</td>\n",
              "      <td>0.022509</td>\n",
              "      <td>-0.024641</td>\n",
              "      <td>0.036118</td>\n",
              "      <td>-0.003006</td>\n",
              "      <td>-0.083026</td>\n",
              "    </tr>\n",
              "    <tr>\n",
              "      <th>danceability</th>\n",
              "      <td>0.193814</td>\n",
              "      <td>-0.121470</td>\n",
              "      <td>0.290529</td>\n",
              "      <td>1.000000</td>\n",
              "      <td>0.134523</td>\n",
              "      <td>0.257602</td>\n",
              "      <td>0.244818</td>\n",
              "      <td>-0.192691</td>\n",
              "      <td>-0.194143</td>\n",
              "      <td>-0.180732</td>\n",
              "      <td>0.398079</td>\n",
              "      <td>-0.036500</td>\n",
              "      <td>-0.066895</td>\n",
              "      <td>-0.180319</td>\n",
              "      <td>0.243833</td>\n",
              "      <td>-0.078271</td>\n",
              "      <td>0.030226</td>\n",
              "      <td>-0.021147</td>\n",
              "      <td>-0.017705</td>\n",
              "      <td>-0.034569</td>\n",
              "      <td>-0.011441</td>\n",
              "      <td>0.035256</td>\n",
              "      <td>-0.028429</td>\n",
              "      <td>0.030615</td>\n",
              "      <td>-0.002629</td>\n",
              "      <td>0.011992</td>\n",
              "      <td>0.024000</td>\n",
              "      <td>-0.092353</td>\n",
              "    </tr>\n",
              "    <tr>\n",
              "      <th>energy</th>\n",
              "      <td>-0.102099</td>\n",
              "      <td>0.033802</td>\n",
              "      <td>-0.005351</td>\n",
              "      <td>0.134523</td>\n",
              "      <td>1.000000</td>\n",
              "      <td>0.688572</td>\n",
              "      <td>0.044134</td>\n",
              "      <td>-0.613762</td>\n",
              "      <td>0.014575</td>\n",
              "      <td>0.166020</td>\n",
              "      <td>0.322794</td>\n",
              "      <td>0.180079</td>\n",
              "      <td>-0.042177</td>\n",
              "      <td>-0.153828</td>\n",
              "      <td>0.180346</td>\n",
              "      <td>-0.043518</td>\n",
              "      <td>0.019886</td>\n",
              "      <td>-0.021495</td>\n",
              "      <td>-0.046901</td>\n",
              "      <td>-0.008371</td>\n",
              "      <td>0.000927</td>\n",
              "      <td>0.016766</td>\n",
              "      <td>0.016864</td>\n",
              "      <td>0.003263</td>\n",
              "      <td>-0.005985</td>\n",
              "      <td>-0.004840</td>\n",
              "      <td>0.046571</td>\n",
              "      <td>-0.088441</td>\n",
              "    </tr>\n",
              "    <tr>\n",
              "      <th>loudness</th>\n",
              "      <td>0.170810</td>\n",
              "      <td>0.013959</td>\n",
              "      <td>0.022977</td>\n",
              "      <td>0.257602</td>\n",
              "      <td>0.688572</td>\n",
              "      <td>1.000000</td>\n",
              "      <td>0.001977</td>\n",
              "      <td>-0.421470</td>\n",
              "      <td>-0.330859</td>\n",
              "      <td>0.043427</td>\n",
              "      <td>0.322223</td>\n",
              "      <td>0.160547</td>\n",
              "      <td>-0.049175</td>\n",
              "      <td>-0.141275</td>\n",
              "      <td>0.183509</td>\n",
              "      <td>-0.041434</td>\n",
              "      <td>0.002667</td>\n",
              "      <td>-0.007752</td>\n",
              "      <td>-0.016813</td>\n",
              "      <td>-0.024841</td>\n",
              "      <td>0.014449</td>\n",
              "      <td>0.015631</td>\n",
              "      <td>-0.006703</td>\n",
              "      <td>0.013043</td>\n",
              "      <td>-0.005173</td>\n",
              "      <td>0.001860</td>\n",
              "      <td>0.026409</td>\n",
              "      <td>-0.041964</td>\n",
              "    </tr>\n",
              "    <tr>\n",
              "      <th>speechiness</th>\n",
              "      <td>0.061784</td>\n",
              "      <td>-0.104894</td>\n",
              "      <td>0.379301</td>\n",
              "      <td>0.244818</td>\n",
              "      <td>0.044134</td>\n",
              "      <td>0.001977</td>\n",
              "      <td>1.000000</td>\n",
              "      <td>-0.048135</td>\n",
              "      <td>-0.134671</td>\n",
              "      <td>0.012082</td>\n",
              "      <td>0.076226</td>\n",
              "      <td>0.053573</td>\n",
              "      <td>0.030314</td>\n",
              "      <td>-0.022922</td>\n",
              "      <td>-0.008002</td>\n",
              "      <td>0.060417</td>\n",
              "      <td>0.058946</td>\n",
              "      <td>-0.019727</td>\n",
              "      <td>-0.032032</td>\n",
              "      <td>-0.029103</td>\n",
              "      <td>-0.006737</td>\n",
              "      <td>0.012810</td>\n",
              "      <td>-0.012215</td>\n",
              "      <td>0.031864</td>\n",
              "      <td>-0.008661</td>\n",
              "      <td>0.018920</td>\n",
              "      <td>0.021988</td>\n",
              "      <td>-0.084880</td>\n",
              "    </tr>\n",
              "    <tr>\n",
              "      <th>acousticness</th>\n",
              "      <td>0.117704</td>\n",
              "      <td>-0.021703</td>\n",
              "      <td>-0.061392</td>\n",
              "      <td>-0.192691</td>\n",
              "      <td>-0.613762</td>\n",
              "      <td>-0.421470</td>\n",
              "      <td>-0.048135</td>\n",
              "      <td>1.000000</td>\n",
              "      <td>-0.050450</td>\n",
              "      <td>-0.077666</td>\n",
              "      <td>-0.134927</td>\n",
              "      <td>-0.130956</td>\n",
              "      <td>0.039740</td>\n",
              "      <td>0.153146</td>\n",
              "      <td>-0.166748</td>\n",
              "      <td>0.040766</td>\n",
              "      <td>-0.048129</td>\n",
              "      <td>0.008024</td>\n",
              "      <td>0.064401</td>\n",
              "      <td>0.018224</td>\n",
              "      <td>0.006557</td>\n",
              "      <td>-0.022268</td>\n",
              "      <td>-0.012625</td>\n",
              "      <td>-0.010204</td>\n",
              "      <td>0.019129</td>\n",
              "      <td>0.022388</td>\n",
              "      <td>-0.036555</td>\n",
              "      <td>0.059090</td>\n",
              "    </tr>\n",
              "    <tr>\n",
              "      <th>instrumentalness</th>\n",
              "      <td>-0.417007</td>\n",
              "      <td>0.102895</td>\n",
              "      <td>-0.122278</td>\n",
              "      <td>-0.194143</td>\n",
              "      <td>0.014575</td>\n",
              "      <td>-0.330859</td>\n",
              "      <td>-0.134671</td>\n",
              "      <td>-0.050450</td>\n",
              "      <td>1.000000</td>\n",
              "      <td>0.030265</td>\n",
              "      <td>-0.207744</td>\n",
              "      <td>-0.012792</td>\n",
              "      <td>0.014317</td>\n",
              "      <td>0.030784</td>\n",
              "      <td>-0.051554</td>\n",
              "      <td>0.012766</td>\n",
              "      <td>0.010186</td>\n",
              "      <td>0.017305</td>\n",
              "      <td>-0.019710</td>\n",
              "      <td>0.017990</td>\n",
              "      <td>-0.025357</td>\n",
              "      <td>-0.015285</td>\n",
              "      <td>0.020836</td>\n",
              "      <td>-0.026491</td>\n",
              "      <td>-0.001093</td>\n",
              "      <td>0.024712</td>\n",
              "      <td>-0.004344</td>\n",
              "      <td>-0.020720</td>\n",
              "    </tr>\n",
              "    <tr>\n",
              "      <th>liveness</th>\n",
              "      <td>-0.107463</td>\n",
              "      <td>0.036597</td>\n",
              "      <td>-0.061529</td>\n",
              "      <td>-0.180732</td>\n",
              "      <td>0.166020</td>\n",
              "      <td>0.043427</td>\n",
              "      <td>0.012082</td>\n",
              "      <td>-0.077666</td>\n",
              "      <td>0.030265</td>\n",
              "      <td>1.000000</td>\n",
              "      <td>0.001645</td>\n",
              "      <td>0.011119</td>\n",
              "      <td>-0.006924</td>\n",
              "      <td>0.005996</td>\n",
              "      <td>-0.001551</td>\n",
              "      <td>-0.002606</td>\n",
              "      <td>-0.001520</td>\n",
              "      <td>-0.000915</td>\n",
              "      <td>-0.017336</td>\n",
              "      <td>0.040585</td>\n",
              "      <td>-0.009466</td>\n",
              "      <td>-0.013789</td>\n",
              "      <td>0.024790</td>\n",
              "      <td>-0.027632</td>\n",
              "      <td>0.005843</td>\n",
              "      <td>-0.018486</td>\n",
              "      <td>0.006762</td>\n",
              "      <td>0.010150</td>\n",
              "    </tr>\n",
              "    <tr>\n",
              "      <th>valence</th>\n",
              "      <td>0.113404</td>\n",
              "      <td>-0.109888</td>\n",
              "      <td>0.005151</td>\n",
              "      <td>0.398079</td>\n",
              "      <td>0.322794</td>\n",
              "      <td>0.322223</td>\n",
              "      <td>0.076226</td>\n",
              "      <td>-0.134927</td>\n",
              "      <td>-0.207744</td>\n",
              "      <td>0.001645</td>\n",
              "      <td>1.000000</td>\n",
              "      <td>0.089893</td>\n",
              "      <td>-0.022410</td>\n",
              "      <td>-0.080986</td>\n",
              "      <td>0.098442</td>\n",
              "      <td>-0.010877</td>\n",
              "      <td>-0.021378</td>\n",
              "      <td>-0.035444</td>\n",
              "      <td>-0.015700</td>\n",
              "      <td>-0.030359</td>\n",
              "      <td>0.007056</td>\n",
              "      <td>0.044595</td>\n",
              "      <td>-0.005957</td>\n",
              "      <td>0.008804</td>\n",
              "      <td>0.008691</td>\n",
              "      <td>0.003715</td>\n",
              "      <td>0.041815</td>\n",
              "      <td>-0.040977</td>\n",
              "    </tr>\n",
              "    <tr>\n",
              "      <th>tempo</th>\n",
              "      <td>-0.023634</td>\n",
              "      <td>0.016473</td>\n",
              "      <td>-0.003159</td>\n",
              "      <td>-0.036500</td>\n",
              "      <td>0.180079</td>\n",
              "      <td>0.160547</td>\n",
              "      <td>0.053573</td>\n",
              "      <td>-0.130956</td>\n",
              "      <td>-0.012792</td>\n",
              "      <td>0.011119</td>\n",
              "      <td>0.089893</td>\n",
              "      <td>1.000000</td>\n",
              "      <td>-0.049984</td>\n",
              "      <td>0.050217</td>\n",
              "      <td>0.016632</td>\n",
              "      <td>-0.015517</td>\n",
              "      <td>0.005359</td>\n",
              "      <td>-0.000071</td>\n",
              "      <td>-0.010951</td>\n",
              "      <td>-0.008008</td>\n",
              "      <td>-0.002870</td>\n",
              "      <td>0.014657</td>\n",
              "      <td>-0.003963</td>\n",
              "      <td>0.012543</td>\n",
              "      <td>0.003434</td>\n",
              "      <td>-0.005669</td>\n",
              "      <td>0.005550</td>\n",
              "      <td>0.011049</td>\n",
              "    </tr>\n",
              "    <tr>\n",
              "      <th>time_signature_1</th>\n",
              "      <td>-0.004033</td>\n",
              "      <td>-0.000718</td>\n",
              "      <td>0.008255</td>\n",
              "      <td>-0.066895</td>\n",
              "      <td>-0.042177</td>\n",
              "      <td>-0.049175</td>\n",
              "      <td>0.030314</td>\n",
              "      <td>0.039740</td>\n",
              "      <td>0.014317</td>\n",
              "      <td>-0.006924</td>\n",
              "      <td>-0.022410</td>\n",
              "      <td>-0.049984</td>\n",
              "      <td>1.000000</td>\n",
              "      <td>-0.015642</td>\n",
              "      <td>-0.250464</td>\n",
              "      <td>-0.008466</td>\n",
              "      <td>0.009927</td>\n",
              "      <td>-0.003496</td>\n",
              "      <td>0.003196</td>\n",
              "      <td>0.005526</td>\n",
              "      <td>0.023769</td>\n",
              "      <td>-0.005416</td>\n",
              "      <td>-0.002569</td>\n",
              "      <td>-0.009318</td>\n",
              "      <td>-0.008194</td>\n",
              "      <td>-0.002558</td>\n",
              "      <td>-0.006790</td>\n",
              "      <td>-0.003939</td>\n",
              "    </tr>\n",
              "    <tr>\n",
              "      <th>time_signature_3</th>\n",
              "      <td>-0.002260</td>\n",
              "      <td>-0.000432</td>\n",
              "      <td>-0.053603</td>\n",
              "      <td>-0.180319</td>\n",
              "      <td>-0.153828</td>\n",
              "      <td>-0.141275</td>\n",
              "      <td>-0.022922</td>\n",
              "      <td>0.153146</td>\n",
              "      <td>0.030784</td>\n",
              "      <td>0.005996</td>\n",
              "      <td>-0.080986</td>\n",
              "      <td>0.050217</td>\n",
              "      <td>-0.015642</td>\n",
              "      <td>1.000000</td>\n",
              "      <td>-0.820990</td>\n",
              "      <td>-0.027749</td>\n",
              "      <td>-0.004398</td>\n",
              "      <td>0.003134</td>\n",
              "      <td>0.006683</td>\n",
              "      <td>0.012728</td>\n",
              "      <td>0.002149</td>\n",
              "      <td>-0.017452</td>\n",
              "      <td>0.007521</td>\n",
              "      <td>-0.013565</td>\n",
              "      <td>0.013040</td>\n",
              "      <td>-0.001272</td>\n",
              "      <td>-0.018925</td>\n",
              "      <td>0.030269</td>\n",
              "    </tr>\n",
              "    <tr>\n",
              "      <th>time_signature_4</th>\n",
              "      <td>-0.001143</td>\n",
              "      <td>0.025068</td>\n",
              "      <td>0.039658</td>\n",
              "      <td>0.243833</td>\n",
              "      <td>0.180346</td>\n",
              "      <td>0.183509</td>\n",
              "      <td>-0.008002</td>\n",
              "      <td>-0.166748</td>\n",
              "      <td>-0.051554</td>\n",
              "      <td>-0.001551</td>\n",
              "      <td>0.098442</td>\n",
              "      <td>0.016632</td>\n",
              "      <td>-0.250464</td>\n",
              "      <td>-0.820990</td>\n",
              "      <td>1.000000</td>\n",
              "      <td>-0.444328</td>\n",
              "      <td>-0.002966</td>\n",
              "      <td>-0.005150</td>\n",
              "      <td>-0.000806</td>\n",
              "      <td>-0.013376</td>\n",
              "      <td>-0.022635</td>\n",
              "      <td>0.018523</td>\n",
              "      <td>-0.001902</td>\n",
              "      <td>0.016431</td>\n",
              "      <td>-0.003470</td>\n",
              "      <td>0.011145</td>\n",
              "      <td>0.013898</td>\n",
              "      <td>-0.010326</td>\n",
              "    </tr>\n",
              "    <tr>\n",
              "      <th>time_signature_5</th>\n",
              "      <td>0.007348</td>\n",
              "      <td>-0.033851</td>\n",
              "      <td>0.015348</td>\n",
              "      <td>-0.078271</td>\n",
              "      <td>-0.043518</td>\n",
              "      <td>-0.041434</td>\n",
              "      <td>0.060417</td>\n",
              "      <td>0.040766</td>\n",
              "      <td>0.012766</td>\n",
              "      <td>-0.002606</td>\n",
              "      <td>-0.010877</td>\n",
              "      <td>-0.015517</td>\n",
              "      <td>-0.008466</td>\n",
              "      <td>-0.027749</td>\n",
              "      <td>-0.444328</td>\n",
              "      <td>1.000000</td>\n",
              "      <td>-0.006471</td>\n",
              "      <td>0.003081</td>\n",
              "      <td>-0.008542</td>\n",
              "      <td>0.008147</td>\n",
              "      <td>0.022520</td>\n",
              "      <td>0.000649</td>\n",
              "      <td>-0.003525</td>\n",
              "      <td>-0.002722</td>\n",
              "      <td>-0.004972</td>\n",
              "      <td>-0.017692</td>\n",
              "      <td>0.011413</td>\n",
              "      <td>-0.036346</td>\n",
              "    </tr>\n",
              "    <tr>\n",
              "      <th>key_1</th>\n",
              "      <td>0.013852</td>\n",
              "      <td>0.005349</td>\n",
              "      <td>0.047144</td>\n",
              "      <td>0.030226</td>\n",
              "      <td>0.019886</td>\n",
              "      <td>0.002667</td>\n",
              "      <td>0.058946</td>\n",
              "      <td>-0.048129</td>\n",
              "      <td>0.010186</td>\n",
              "      <td>-0.001520</td>\n",
              "      <td>-0.021378</td>\n",
              "      <td>0.005359</td>\n",
              "      <td>0.009927</td>\n",
              "      <td>-0.004398</td>\n",
              "      <td>-0.002966</td>\n",
              "      <td>-0.006471</td>\n",
              "      <td>1.000000</td>\n",
              "      <td>-0.111039</td>\n",
              "      <td>-0.062059</td>\n",
              "      <td>-0.099674</td>\n",
              "      <td>-0.103044</td>\n",
              "      <td>-0.102337</td>\n",
              "      <td>-0.121534</td>\n",
              "      <td>-0.098688</td>\n",
              "      <td>-0.111344</td>\n",
              "      <td>-0.093713</td>\n",
              "      <td>-0.106716</td>\n",
              "      <td>0.067018</td>\n",
              "    </tr>\n",
              "    <tr>\n",
              "      <th>key_2</th>\n",
              "      <td>-0.031502</td>\n",
              "      <td>-0.001336</td>\n",
              "      <td>0.003683</td>\n",
              "      <td>-0.021147</td>\n",
              "      <td>-0.021495</td>\n",
              "      <td>-0.007752</td>\n",
              "      <td>-0.019727</td>\n",
              "      <td>0.008024</td>\n",
              "      <td>0.017305</td>\n",
              "      <td>-0.000915</td>\n",
              "      <td>-0.035444</td>\n",
              "      <td>-0.000071</td>\n",
              "      <td>-0.003496</td>\n",
              "      <td>0.003134</td>\n",
              "      <td>-0.005150</td>\n",
              "      <td>0.003081</td>\n",
              "      <td>-0.111039</td>\n",
              "      <td>1.000000</td>\n",
              "      <td>-0.056299</td>\n",
              "      <td>-0.090424</td>\n",
              "      <td>-0.093480</td>\n",
              "      <td>-0.092840</td>\n",
              "      <td>-0.110255</td>\n",
              "      <td>-0.089529</td>\n",
              "      <td>-0.101010</td>\n",
              "      <td>-0.085016</td>\n",
              "      <td>-0.096811</td>\n",
              "      <td>0.117711</td>\n",
              "    </tr>\n",
              "    <tr>\n",
              "      <th>key_3</th>\n",
              "      <td>0.025115</td>\n",
              "      <td>-0.009369</td>\n",
              "      <td>-0.031289</td>\n",
              "      <td>-0.017705</td>\n",
              "      <td>-0.046901</td>\n",
              "      <td>-0.016813</td>\n",
              "      <td>-0.032032</td>\n",
              "      <td>0.064401</td>\n",
              "      <td>-0.019710</td>\n",
              "      <td>-0.017336</td>\n",
              "      <td>-0.015700</td>\n",
              "      <td>-0.010951</td>\n",
              "      <td>0.003196</td>\n",
              "      <td>0.006683</td>\n",
              "      <td>-0.000806</td>\n",
              "      <td>-0.008542</td>\n",
              "      <td>-0.062059</td>\n",
              "      <td>-0.056299</td>\n",
              "      <td>1.000000</td>\n",
              "      <td>-0.050537</td>\n",
              "      <td>-0.052245</td>\n",
              "      <td>-0.051887</td>\n",
              "      <td>-0.061620</td>\n",
              "      <td>-0.050037</td>\n",
              "      <td>-0.056454</td>\n",
              "      <td>-0.047514</td>\n",
              "      <td>-0.054107</td>\n",
              "      <td>-0.023883</td>\n",
              "    </tr>\n",
              "    <tr>\n",
              "      <th>key_4</th>\n",
              "      <td>-0.025322</td>\n",
              "      <td>0.004886</td>\n",
              "      <td>-0.019780</td>\n",
              "      <td>-0.034569</td>\n",
              "      <td>-0.008371</td>\n",
              "      <td>-0.024841</td>\n",
              "      <td>-0.029103</td>\n",
              "      <td>0.018224</td>\n",
              "      <td>0.017990</td>\n",
              "      <td>0.040585</td>\n",
              "      <td>-0.030359</td>\n",
              "      <td>-0.008008</td>\n",
              "      <td>0.005526</td>\n",
              "      <td>0.012728</td>\n",
              "      <td>-0.013376</td>\n",
              "      <td>0.008147</td>\n",
              "      <td>-0.099674</td>\n",
              "      <td>-0.090424</td>\n",
              "      <td>-0.050537</td>\n",
              "      <td>1.000000</td>\n",
              "      <td>-0.083913</td>\n",
              "      <td>-0.083338</td>\n",
              "      <td>-0.098970</td>\n",
              "      <td>-0.080366</td>\n",
              "      <td>-0.090672</td>\n",
              "      <td>-0.076314</td>\n",
              "      <td>-0.086903</td>\n",
              "      <td>-0.098512</td>\n",
              "    </tr>\n",
              "    <tr>\n",
              "      <th>key_5</th>\n",
              "      <td>0.011992</td>\n",
              "      <td>-0.006388</td>\n",
              "      <td>0.003208</td>\n",
              "      <td>-0.011441</td>\n",
              "      <td>0.000927</td>\n",
              "      <td>0.014449</td>\n",
              "      <td>-0.006737</td>\n",
              "      <td>0.006557</td>\n",
              "      <td>-0.025357</td>\n",
              "      <td>-0.009466</td>\n",
              "      <td>0.007056</td>\n",
              "      <td>-0.002870</td>\n",
              "      <td>0.023769</td>\n",
              "      <td>0.002149</td>\n",
              "      <td>-0.022635</td>\n",
              "      <td>0.022520</td>\n",
              "      <td>-0.103044</td>\n",
              "      <td>-0.093480</td>\n",
              "      <td>-0.052245</td>\n",
              "      <td>-0.083913</td>\n",
              "      <td>1.000000</td>\n",
              "      <td>-0.086155</td>\n",
              "      <td>-0.102316</td>\n",
              "      <td>-0.083082</td>\n",
              "      <td>-0.093737</td>\n",
              "      <td>-0.078894</td>\n",
              "      <td>-0.089841</td>\n",
              "      <td>-0.072979</td>\n",
              "    </tr>\n",
              "    <tr>\n",
              "      <th>key_6</th>\n",
              "      <td>0.012256</td>\n",
              "      <td>-0.009624</td>\n",
              "      <td>0.002750</td>\n",
              "      <td>0.035256</td>\n",
              "      <td>0.016766</td>\n",
              "      <td>0.015631</td>\n",
              "      <td>0.012810</td>\n",
              "      <td>-0.022268</td>\n",
              "      <td>-0.015285</td>\n",
              "      <td>-0.013789</td>\n",
              "      <td>0.044595</td>\n",
              "      <td>0.014657</td>\n",
              "      <td>-0.005416</td>\n",
              "      <td>-0.017452</td>\n",
              "      <td>0.018523</td>\n",
              "      <td>0.000649</td>\n",
              "      <td>-0.102337</td>\n",
              "      <td>-0.092840</td>\n",
              "      <td>-0.051887</td>\n",
              "      <td>-0.083338</td>\n",
              "      <td>-0.086155</td>\n",
              "      <td>1.000000</td>\n",
              "      <td>-0.101614</td>\n",
              "      <td>-0.082513</td>\n",
              "      <td>-0.093094</td>\n",
              "      <td>-0.078353</td>\n",
              "      <td>-0.089225</td>\n",
              "      <td>-0.075295</td>\n",
              "    </tr>\n",
              "    <tr>\n",
              "      <th>key_7</th>\n",
              "      <td>-0.031497</td>\n",
              "      <td>0.026924</td>\n",
              "      <td>-0.011442</td>\n",
              "      <td>-0.028429</td>\n",
              "      <td>0.016864</td>\n",
              "      <td>-0.006703</td>\n",
              "      <td>-0.012215</td>\n",
              "      <td>-0.012625</td>\n",
              "      <td>0.020836</td>\n",
              "      <td>0.024790</td>\n",
              "      <td>-0.005957</td>\n",
              "      <td>-0.003963</td>\n",
              "      <td>-0.002569</td>\n",
              "      <td>0.007521</td>\n",
              "      <td>-0.001902</td>\n",
              "      <td>-0.003525</td>\n",
              "      <td>-0.121534</td>\n",
              "      <td>-0.110255</td>\n",
              "      <td>-0.061620</td>\n",
              "      <td>-0.098970</td>\n",
              "      <td>-0.102316</td>\n",
              "      <td>-0.101614</td>\n",
              "      <td>1.000000</td>\n",
              "      <td>-0.097991</td>\n",
              "      <td>-0.110557</td>\n",
              "      <td>-0.093051</td>\n",
              "      <td>-0.105962</td>\n",
              "      <td>0.084338</td>\n",
              "    </tr>\n",
              "    <tr>\n",
              "      <th>key_8</th>\n",
              "      <td>0.039321</td>\n",
              "      <td>-0.014791</td>\n",
              "      <td>0.022509</td>\n",
              "      <td>0.030615</td>\n",
              "      <td>0.003263</td>\n",
              "      <td>0.013043</td>\n",
              "      <td>0.031864</td>\n",
              "      <td>-0.010204</td>\n",
              "      <td>-0.026491</td>\n",
              "      <td>-0.027632</td>\n",
              "      <td>0.008804</td>\n",
              "      <td>0.012543</td>\n",
              "      <td>-0.009318</td>\n",
              "      <td>-0.013565</td>\n",
              "      <td>0.016431</td>\n",
              "      <td>-0.002722</td>\n",
              "      <td>-0.098688</td>\n",
              "      <td>-0.089529</td>\n",
              "      <td>-0.050037</td>\n",
              "      <td>-0.080366</td>\n",
              "      <td>-0.083082</td>\n",
              "      <td>-0.082513</td>\n",
              "      <td>-0.097991</td>\n",
              "      <td>1.000000</td>\n",
              "      <td>-0.089774</td>\n",
              "      <td>-0.075559</td>\n",
              "      <td>-0.086043</td>\n",
              "      <td>0.054780</td>\n",
              "    </tr>\n",
              "    <tr>\n",
              "      <th>key_9</th>\n",
              "      <td>-0.020950</td>\n",
              "      <td>0.010972</td>\n",
              "      <td>-0.024641</td>\n",
              "      <td>-0.002629</td>\n",
              "      <td>-0.005985</td>\n",
              "      <td>-0.005173</td>\n",
              "      <td>-0.008661</td>\n",
              "      <td>0.019129</td>\n",
              "      <td>-0.001093</td>\n",
              "      <td>0.005843</td>\n",
              "      <td>0.008691</td>\n",
              "      <td>0.003434</td>\n",
              "      <td>-0.008194</td>\n",
              "      <td>0.013040</td>\n",
              "      <td>-0.003470</td>\n",
              "      <td>-0.004972</td>\n",
              "      <td>-0.111344</td>\n",
              "      <td>-0.101010</td>\n",
              "      <td>-0.056454</td>\n",
              "      <td>-0.090672</td>\n",
              "      <td>-0.093737</td>\n",
              "      <td>-0.093094</td>\n",
              "      <td>-0.110557</td>\n",
              "      <td>-0.089774</td>\n",
              "      <td>1.000000</td>\n",
              "      <td>-0.085249</td>\n",
              "      <td>-0.097077</td>\n",
              "      <td>-0.012555</td>\n",
              "    </tr>\n",
              "    <tr>\n",
              "      <th>key_10</th>\n",
              "      <td>0.007592</td>\n",
              "      <td>-0.003051</td>\n",
              "      <td>0.036118</td>\n",
              "      <td>0.011992</td>\n",
              "      <td>-0.004840</td>\n",
              "      <td>0.001860</td>\n",
              "      <td>0.018920</td>\n",
              "      <td>0.022388</td>\n",
              "      <td>0.024712</td>\n",
              "      <td>-0.018486</td>\n",
              "      <td>0.003715</td>\n",
              "      <td>-0.005669</td>\n",
              "      <td>-0.002558</td>\n",
              "      <td>-0.001272</td>\n",
              "      <td>0.011145</td>\n",
              "      <td>-0.017692</td>\n",
              "      <td>-0.093713</td>\n",
              "      <td>-0.085016</td>\n",
              "      <td>-0.047514</td>\n",
              "      <td>-0.076314</td>\n",
              "      <td>-0.078894</td>\n",
              "      <td>-0.078353</td>\n",
              "      <td>-0.093051</td>\n",
              "      <td>-0.075559</td>\n",
              "      <td>-0.085249</td>\n",
              "      <td>1.000000</td>\n",
              "      <td>-0.081705</td>\n",
              "      <td>-0.085106</td>\n",
              "    </tr>\n",
              "    <tr>\n",
              "      <th>key_11</th>\n",
              "      <td>0.008489</td>\n",
              "      <td>-0.011725</td>\n",
              "      <td>-0.003006</td>\n",
              "      <td>0.024000</td>\n",
              "      <td>0.046571</td>\n",
              "      <td>0.026409</td>\n",
              "      <td>0.021988</td>\n",
              "      <td>-0.036555</td>\n",
              "      <td>-0.004344</td>\n",
              "      <td>0.006762</td>\n",
              "      <td>0.041815</td>\n",
              "      <td>0.005550</td>\n",
              "      <td>-0.006790</td>\n",
              "      <td>-0.018925</td>\n",
              "      <td>0.013898</td>\n",
              "      <td>0.011413</td>\n",
              "      <td>-0.106716</td>\n",
              "      <td>-0.096811</td>\n",
              "      <td>-0.054107</td>\n",
              "      <td>-0.086903</td>\n",
              "      <td>-0.089841</td>\n",
              "      <td>-0.089225</td>\n",
              "      <td>-0.105962</td>\n",
              "      <td>-0.086043</td>\n",
              "      <td>-0.097077</td>\n",
              "      <td>-0.081705</td>\n",
              "      <td>1.000000</td>\n",
              "      <td>-0.105135</td>\n",
              "    </tr>\n",
              "    <tr>\n",
              "      <th>mode_1</th>\n",
              "      <td>-0.009488</td>\n",
              "      <td>0.040919</td>\n",
              "      <td>-0.083026</td>\n",
              "      <td>-0.092353</td>\n",
              "      <td>-0.088441</td>\n",
              "      <td>-0.041964</td>\n",
              "      <td>-0.084880</td>\n",
              "      <td>0.059090</td>\n",
              "      <td>-0.020720</td>\n",
              "      <td>0.010150</td>\n",
              "      <td>-0.040977</td>\n",
              "      <td>0.011049</td>\n",
              "      <td>-0.003939</td>\n",
              "      <td>0.030269</td>\n",
              "      <td>-0.010326</td>\n",
              "      <td>-0.036346</td>\n",
              "      <td>0.067018</td>\n",
              "      <td>0.117711</td>\n",
              "      <td>-0.023883</td>\n",
              "      <td>-0.098512</td>\n",
              "      <td>-0.072979</td>\n",
              "      <td>-0.075295</td>\n",
              "      <td>0.084338</td>\n",
              "      <td>0.054780</td>\n",
              "      <td>-0.012555</td>\n",
              "      <td>-0.085106</td>\n",
              "      <td>-0.105135</td>\n",
              "      <td>1.000000</td>\n",
              "    </tr>\n",
              "  </tbody>\n",
              "</table>\n",
              "</div>"
            ],
            "text/plain": [
              "                  popularity  duration_ms  explicit  danceability    energy  \\\n",
              "popularity          1.000000    -0.147147  0.155392      0.193814 -0.102099   \n",
              "duration_ms        -0.147147     1.000000 -0.082648     -0.121470  0.033802   \n",
              "explicit            0.155392    -0.082648  1.000000      0.290529 -0.005351   \n",
              "danceability        0.193814    -0.121470  0.290529      1.000000  0.134523   \n",
              "energy             -0.102099     0.033802 -0.005351      0.134523  1.000000   \n",
              "loudness            0.170810     0.013959  0.022977      0.257602  0.688572   \n",
              "speechiness         0.061784    -0.104894  0.379301      0.244818  0.044134   \n",
              "acousticness        0.117704    -0.021703 -0.061392     -0.192691 -0.613762   \n",
              "instrumentalness   -0.417007     0.102895 -0.122278     -0.194143  0.014575   \n",
              "liveness           -0.107463     0.036597 -0.061529     -0.180732  0.166020   \n",
              "valence             0.113404    -0.109888  0.005151      0.398079  0.322794   \n",
              "tempo              -0.023634     0.016473 -0.003159     -0.036500  0.180079   \n",
              "time_signature_1   -0.004033    -0.000718  0.008255     -0.066895 -0.042177   \n",
              "time_signature_3   -0.002260    -0.000432 -0.053603     -0.180319 -0.153828   \n",
              "time_signature_4   -0.001143     0.025068  0.039658      0.243833  0.180346   \n",
              "time_signature_5    0.007348    -0.033851  0.015348     -0.078271 -0.043518   \n",
              "key_1               0.013852     0.005349  0.047144      0.030226  0.019886   \n",
              "key_2              -0.031502    -0.001336  0.003683     -0.021147 -0.021495   \n",
              "key_3               0.025115    -0.009369 -0.031289     -0.017705 -0.046901   \n",
              "key_4              -0.025322     0.004886 -0.019780     -0.034569 -0.008371   \n",
              "key_5               0.011992    -0.006388  0.003208     -0.011441  0.000927   \n",
              "key_6               0.012256    -0.009624  0.002750      0.035256  0.016766   \n",
              "key_7              -0.031497     0.026924 -0.011442     -0.028429  0.016864   \n",
              "key_8               0.039321    -0.014791  0.022509      0.030615  0.003263   \n",
              "key_9              -0.020950     0.010972 -0.024641     -0.002629 -0.005985   \n",
              "key_10              0.007592    -0.003051  0.036118      0.011992 -0.004840   \n",
              "key_11              0.008489    -0.011725 -0.003006      0.024000  0.046571   \n",
              "mode_1             -0.009488     0.040919 -0.083026     -0.092353 -0.088441   \n",
              "\n",
              "                  loudness  speechiness  acousticness  instrumentalness  \\\n",
              "popularity        0.170810     0.061784      0.117704         -0.417007   \n",
              "duration_ms       0.013959    -0.104894     -0.021703          0.102895   \n",
              "explicit          0.022977     0.379301     -0.061392         -0.122278   \n",
              "danceability      0.257602     0.244818     -0.192691         -0.194143   \n",
              "energy            0.688572     0.044134     -0.613762          0.014575   \n",
              "loudness          1.000000     0.001977     -0.421470         -0.330859   \n",
              "speechiness       0.001977     1.000000     -0.048135         -0.134671   \n",
              "acousticness     -0.421470    -0.048135      1.000000         -0.050450   \n",
              "instrumentalness -0.330859    -0.134671     -0.050450          1.000000   \n",
              "liveness          0.043427     0.012082     -0.077666          0.030265   \n",
              "valence           0.322223     0.076226     -0.134927         -0.207744   \n",
              "tempo             0.160547     0.053573     -0.130956         -0.012792   \n",
              "time_signature_1 -0.049175     0.030314      0.039740          0.014317   \n",
              "time_signature_3 -0.141275    -0.022922      0.153146          0.030784   \n",
              "time_signature_4  0.183509    -0.008002     -0.166748         -0.051554   \n",
              "time_signature_5 -0.041434     0.060417      0.040766          0.012766   \n",
              "key_1             0.002667     0.058946     -0.048129          0.010186   \n",
              "key_2            -0.007752    -0.019727      0.008024          0.017305   \n",
              "key_3            -0.016813    -0.032032      0.064401         -0.019710   \n",
              "key_4            -0.024841    -0.029103      0.018224          0.017990   \n",
              "key_5             0.014449    -0.006737      0.006557         -0.025357   \n",
              "key_6             0.015631     0.012810     -0.022268         -0.015285   \n",
              "key_7            -0.006703    -0.012215     -0.012625          0.020836   \n",
              "key_8             0.013043     0.031864     -0.010204         -0.026491   \n",
              "key_9            -0.005173    -0.008661      0.019129         -0.001093   \n",
              "key_10            0.001860     0.018920      0.022388          0.024712   \n",
              "key_11            0.026409     0.021988     -0.036555         -0.004344   \n",
              "mode_1           -0.041964    -0.084880      0.059090         -0.020720   \n",
              "\n",
              "                  liveness   valence     tempo  time_signature_1  \\\n",
              "popularity       -0.107463  0.113404 -0.023634         -0.004033   \n",
              "duration_ms       0.036597 -0.109888  0.016473         -0.000718   \n",
              "explicit         -0.061529  0.005151 -0.003159          0.008255   \n",
              "danceability     -0.180732  0.398079 -0.036500         -0.066895   \n",
              "energy            0.166020  0.322794  0.180079         -0.042177   \n",
              "loudness          0.043427  0.322223  0.160547         -0.049175   \n",
              "speechiness       0.012082  0.076226  0.053573          0.030314   \n",
              "acousticness     -0.077666 -0.134927 -0.130956          0.039740   \n",
              "instrumentalness  0.030265 -0.207744 -0.012792          0.014317   \n",
              "liveness          1.000000  0.001645  0.011119         -0.006924   \n",
              "valence           0.001645  1.000000  0.089893         -0.022410   \n",
              "tempo             0.011119  0.089893  1.000000         -0.049984   \n",
              "time_signature_1 -0.006924 -0.022410 -0.049984          1.000000   \n",
              "time_signature_3  0.005996 -0.080986  0.050217         -0.015642   \n",
              "time_signature_4 -0.001551  0.098442  0.016632         -0.250464   \n",
              "time_signature_5 -0.002606 -0.010877 -0.015517         -0.008466   \n",
              "key_1            -0.001520 -0.021378  0.005359          0.009927   \n",
              "key_2            -0.000915 -0.035444 -0.000071         -0.003496   \n",
              "key_3            -0.017336 -0.015700 -0.010951          0.003196   \n",
              "key_4             0.040585 -0.030359 -0.008008          0.005526   \n",
              "key_5            -0.009466  0.007056 -0.002870          0.023769   \n",
              "key_6            -0.013789  0.044595  0.014657         -0.005416   \n",
              "key_7             0.024790 -0.005957 -0.003963         -0.002569   \n",
              "key_8            -0.027632  0.008804  0.012543         -0.009318   \n",
              "key_9             0.005843  0.008691  0.003434         -0.008194   \n",
              "key_10           -0.018486  0.003715 -0.005669         -0.002558   \n",
              "key_11            0.006762  0.041815  0.005550         -0.006790   \n",
              "mode_1            0.010150 -0.040977  0.011049         -0.003939   \n",
              "\n",
              "                  time_signature_3  time_signature_4  time_signature_5  \\\n",
              "popularity               -0.002260         -0.001143          0.007348   \n",
              "duration_ms              -0.000432          0.025068         -0.033851   \n",
              "explicit                 -0.053603          0.039658          0.015348   \n",
              "danceability             -0.180319          0.243833         -0.078271   \n",
              "energy                   -0.153828          0.180346         -0.043518   \n",
              "loudness                 -0.141275          0.183509         -0.041434   \n",
              "speechiness              -0.022922         -0.008002          0.060417   \n",
              "acousticness              0.153146         -0.166748          0.040766   \n",
              "instrumentalness          0.030784         -0.051554          0.012766   \n",
              "liveness                  0.005996         -0.001551         -0.002606   \n",
              "valence                  -0.080986          0.098442         -0.010877   \n",
              "tempo                     0.050217          0.016632         -0.015517   \n",
              "time_signature_1         -0.015642         -0.250464         -0.008466   \n",
              "time_signature_3          1.000000         -0.820990         -0.027749   \n",
              "time_signature_4         -0.820990          1.000000         -0.444328   \n",
              "time_signature_5         -0.027749         -0.444328          1.000000   \n",
              "key_1                    -0.004398         -0.002966         -0.006471   \n",
              "key_2                     0.003134         -0.005150          0.003081   \n",
              "key_3                     0.006683         -0.000806         -0.008542   \n",
              "key_4                     0.012728         -0.013376          0.008147   \n",
              "key_5                     0.002149         -0.022635          0.022520   \n",
              "key_6                    -0.017452          0.018523          0.000649   \n",
              "key_7                     0.007521         -0.001902         -0.003525   \n",
              "key_8                    -0.013565          0.016431         -0.002722   \n",
              "key_9                     0.013040         -0.003470         -0.004972   \n",
              "key_10                   -0.001272          0.011145         -0.017692   \n",
              "key_11                   -0.018925          0.013898          0.011413   \n",
              "mode_1                    0.030269         -0.010326         -0.036346   \n",
              "\n",
              "                     key_1     key_2     key_3     key_4     key_5     key_6  \\\n",
              "popularity        0.013852 -0.031502  0.025115 -0.025322  0.011992  0.012256   \n",
              "duration_ms       0.005349 -0.001336 -0.009369  0.004886 -0.006388 -0.009624   \n",
              "explicit          0.047144  0.003683 -0.031289 -0.019780  0.003208  0.002750   \n",
              "danceability      0.030226 -0.021147 -0.017705 -0.034569 -0.011441  0.035256   \n",
              "energy            0.019886 -0.021495 -0.046901 -0.008371  0.000927  0.016766   \n",
              "loudness          0.002667 -0.007752 -0.016813 -0.024841  0.014449  0.015631   \n",
              "speechiness       0.058946 -0.019727 -0.032032 -0.029103 -0.006737  0.012810   \n",
              "acousticness     -0.048129  0.008024  0.064401  0.018224  0.006557 -0.022268   \n",
              "instrumentalness  0.010186  0.017305 -0.019710  0.017990 -0.025357 -0.015285   \n",
              "liveness         -0.001520 -0.000915 -0.017336  0.040585 -0.009466 -0.013789   \n",
              "valence          -0.021378 -0.035444 -0.015700 -0.030359  0.007056  0.044595   \n",
              "tempo             0.005359 -0.000071 -0.010951 -0.008008 -0.002870  0.014657   \n",
              "time_signature_1  0.009927 -0.003496  0.003196  0.005526  0.023769 -0.005416   \n",
              "time_signature_3 -0.004398  0.003134  0.006683  0.012728  0.002149 -0.017452   \n",
              "time_signature_4 -0.002966 -0.005150 -0.000806 -0.013376 -0.022635  0.018523   \n",
              "time_signature_5 -0.006471  0.003081 -0.008542  0.008147  0.022520  0.000649   \n",
              "key_1             1.000000 -0.111039 -0.062059 -0.099674 -0.103044 -0.102337   \n",
              "key_2            -0.111039  1.000000 -0.056299 -0.090424 -0.093480 -0.092840   \n",
              "key_3            -0.062059 -0.056299  1.000000 -0.050537 -0.052245 -0.051887   \n",
              "key_4            -0.099674 -0.090424 -0.050537  1.000000 -0.083913 -0.083338   \n",
              "key_5            -0.103044 -0.093480 -0.052245 -0.083913  1.000000 -0.086155   \n",
              "key_6            -0.102337 -0.092840 -0.051887 -0.083338 -0.086155  1.000000   \n",
              "key_7            -0.121534 -0.110255 -0.061620 -0.098970 -0.102316 -0.101614   \n",
              "key_8            -0.098688 -0.089529 -0.050037 -0.080366 -0.083082 -0.082513   \n",
              "key_9            -0.111344 -0.101010 -0.056454 -0.090672 -0.093737 -0.093094   \n",
              "key_10           -0.093713 -0.085016 -0.047514 -0.076314 -0.078894 -0.078353   \n",
              "key_11           -0.106716 -0.096811 -0.054107 -0.086903 -0.089841 -0.089225   \n",
              "mode_1            0.067018  0.117711 -0.023883 -0.098512 -0.072979 -0.075295   \n",
              "\n",
              "                     key_7     key_8     key_9    key_10    key_11    mode_1  \n",
              "popularity       -0.031497  0.039321 -0.020950  0.007592  0.008489 -0.009488  \n",
              "duration_ms       0.026924 -0.014791  0.010972 -0.003051 -0.011725  0.040919  \n",
              "explicit         -0.011442  0.022509 -0.024641  0.036118 -0.003006 -0.083026  \n",
              "danceability     -0.028429  0.030615 -0.002629  0.011992  0.024000 -0.092353  \n",
              "energy            0.016864  0.003263 -0.005985 -0.004840  0.046571 -0.088441  \n",
              "loudness         -0.006703  0.013043 -0.005173  0.001860  0.026409 -0.041964  \n",
              "speechiness      -0.012215  0.031864 -0.008661  0.018920  0.021988 -0.084880  \n",
              "acousticness     -0.012625 -0.010204  0.019129  0.022388 -0.036555  0.059090  \n",
              "instrumentalness  0.020836 -0.026491 -0.001093  0.024712 -0.004344 -0.020720  \n",
              "liveness          0.024790 -0.027632  0.005843 -0.018486  0.006762  0.010150  \n",
              "valence          -0.005957  0.008804  0.008691  0.003715  0.041815 -0.040977  \n",
              "tempo            -0.003963  0.012543  0.003434 -0.005669  0.005550  0.011049  \n",
              "time_signature_1 -0.002569 -0.009318 -0.008194 -0.002558 -0.006790 -0.003939  \n",
              "time_signature_3  0.007521 -0.013565  0.013040 -0.001272 -0.018925  0.030269  \n",
              "time_signature_4 -0.001902  0.016431 -0.003470  0.011145  0.013898 -0.010326  \n",
              "time_signature_5 -0.003525 -0.002722 -0.004972 -0.017692  0.011413 -0.036346  \n",
              "key_1            -0.121534 -0.098688 -0.111344 -0.093713 -0.106716  0.067018  \n",
              "key_2            -0.110255 -0.089529 -0.101010 -0.085016 -0.096811  0.117711  \n",
              "key_3            -0.061620 -0.050037 -0.056454 -0.047514 -0.054107 -0.023883  \n",
              "key_4            -0.098970 -0.080366 -0.090672 -0.076314 -0.086903 -0.098512  \n",
              "key_5            -0.102316 -0.083082 -0.093737 -0.078894 -0.089841 -0.072979  \n",
              "key_6            -0.101614 -0.082513 -0.093094 -0.078353 -0.089225 -0.075295  \n",
              "key_7             1.000000 -0.097991 -0.110557 -0.093051 -0.105962  0.084338  \n",
              "key_8            -0.097991  1.000000 -0.089774 -0.075559 -0.086043  0.054780  \n",
              "key_9            -0.110557 -0.089774  1.000000 -0.085249 -0.097077 -0.012555  \n",
              "key_10           -0.093051 -0.075559 -0.085249  1.000000 -0.081705 -0.085106  \n",
              "key_11           -0.105962 -0.086043 -0.097077 -0.081705  1.000000 -0.105135  \n",
              "mode_1            0.084338  0.054780 -0.012555 -0.085106 -0.105135  1.000000  "
            ]
          },
          "execution_count": 33,
          "metadata": {},
          "output_type": "execute_result"
        }
      ],
      "source": [
        "data.corr()"
      ]
    },
    {
      "cell_type": "markdown",
      "metadata": {
        "cellView": "code",
        "id": "AYK4QyHLslyG"
      },
      "source": [
        "## Setting Up the Models"
      ]
    },
    {
      "cell_type": "code",
      "execution_count": 34,
      "metadata": {},
      "outputs": [],
      "source": [
        "X = data[features]\n",
        "Y = data['popularity']\n",
        "Y_temp = Y"
      ]
    },
    {
      "cell_type": "code",
      "execution_count": 35,
      "metadata": {
        "colab": {
          "base_uri": "https://localhost:8080/"
        },
        "id": "ZCPKNNPZsl2X",
        "outputId": "00f74bda-3971-46ad-fca8-d32e50d30a45"
      },
      "outputs": [
        {
          "data": {
            "text/plain": [
              "0.2265451890655975"
            ]
          },
          "execution_count": 35,
          "metadata": {},
          "output_type": "execute_result"
        }
      ],
      "source": [
        "X_train, X_test, Y_train, Y_test = train_test_split(X, Y, test_size=0.3, random_state=8)\n",
        "\n",
        "\n",
        "model = LinearRegression()\n",
        "model.fit(X_train,Y_train)\n",
        "model.score(X_test, Y_test)"
      ]
    },
    {
      "cell_type": "code",
      "execution_count": 36,
      "metadata": {
        "id": "Jq8r4EXDsl5A"
      },
      "outputs": [],
      "source": [
        "Y_pred = model.predict(X_test)"
      ]
    },
    {
      "cell_type": "code",
      "execution_count": 37,
      "metadata": {
        "id": "iEpTrnUzsl7y"
      },
      "outputs": [],
      "source": [
        "from sklearn import metrics\n",
        "from sklearn.metrics import r2_score"
      ]
    },
    {
      "cell_type": "code",
      "execution_count": 38,
      "metadata": {
        "colab": {
          "base_uri": "https://localhost:8080/"
        },
        "id": "HUiNtrHpsl9z",
        "outputId": "a2b222b0-9c0b-4fd1-e7aa-e682a2653e3f"
      },
      "outputs": [
        {
          "name": "stdout",
          "output_type": "stream",
          "text": [
            "R2 Score:  0.2265451890655975\n",
            "MAE:  13.774146702743273\n",
            "MSE:  333.337245311379\n",
            "RMSE: 18.257525717122213\n"
          ]
        }
      ],
      "source": [
        "print(\"R2 Score: \",metrics.r2_score(Y_test, Y_pred))\n",
        "print(\"MAE: \", metrics.mean_absolute_error(Y_test, Y_pred))\n",
        "print(\"MSE: \", metrics.mean_squared_error(Y_test, Y_pred))\n",
        "print(\"RMSE:\", np.sqrt(metrics.mean_squared_error(Y_test, Y_pred)))"
      ]
    },
    {
      "cell_type": "code",
      "execution_count": 39,
      "metadata": {
        "colab": {
          "base_uri": "https://localhost:8080/"
        },
        "id": "0kpogri9sl_7",
        "outputId": "c2fb7022-55d1-479e-e96d-b8e4933d2d77"
      },
      "outputs": [
        {
          "name": "stdout",
          "output_type": "stream",
          "text": [
            "Print all scores:  [0.2105213  0.17116564 0.09005013 0.15640372 0.08064842]\n",
            "Mean Accuracy:  0.1417578413143356\n"
          ]
        }
      ],
      "source": [
        "from sklearn.model_selection import cross_val_score\n",
        "from sklearn import datasets, linear_model\n",
        "\n",
        "scores = cross_val_score(model,X,Y, cv=5)\n",
        "print(\"Print all scores: \", scores)\n",
        "print(\"Mean Accuracy: \", scores.mean())"
      ]
    },
    {
      "cell_type": "code",
      "execution_count": 40,
      "metadata": {
        "colab": {
          "base_uri": "https://localhost:8080/",
          "height": 458
        },
        "id": "6nrcLAxVsmB_",
        "outputId": "a82c3249-13bb-4c6b-efbd-fcef4dba3152"
      },
      "outputs": [
        {
          "data": {
            "text/plain": [
              "<seaborn.axisgrid.JointGrid at 0x21ed07857c0>"
            ]
          },
          "execution_count": 40,
          "metadata": {},
          "output_type": "execute_result"
        },
        {
          "data": {
            "image/png": "[encoded data removed]",
            "text/plain": [
              "<Figure size 432x432 with 3 Axes>"
            ]
          },
          "metadata": {
            "needs_background": "light"
          },
          "output_type": "display_data"
        }
      ],
      "source": [
        "sns.jointplot(Y_test,Y_pred)"
      ]
    },
    {
      "cell_type": "markdown",
      "metadata": {
        "id": "pxracMcrsmEU"
      },
      "source": [
        "# Decision Tree Regressor"
      ]
    },
    {
      "cell_type": "code",
      "execution_count": 41,
      "metadata": {
        "id": "s-i5g48IsmHu"
      },
      "outputs": [],
      "source": [
        "from sklearn.linear_model import LinearRegression\n",
        "from sklearn.linear_model import LogisticRegression\n",
        "from sklearn.ensemble import RandomForestClassifier\n",
        "from sklearn.neighbors import KNeighborsClassifier\n",
        "from sklearn.tree import DecisionTreeClassifier\n",
        "from sklearn.svm import SVC, LinearSVC\n",
        "\n",
        "from sklearn.metrics import make_scorer, accuracy_score, roc_auc_score \n",
        "from sklearn.model_selection import GridSearchCV\n",
        "from sklearn.model_selection import train_test_split\n",
        "\n",
        "import numpy as np\n",
        "import pandas as pd"
      ]
    },
    {
      "cell_type": "code",
      "execution_count": 42,
      "metadata": {
        "colab": {
          "base_uri": "https://localhost:8080/"
        },
        "id": "ZAl-yWo0smJ3",
        "outputId": "f52e4b44-7eaf-4548-8478-1fdab80dafeb"
      },
      "outputs": [
        {
          "name": "stdout",
          "output_type": "stream",
          "text": [
            "18.5560053914302\n",
            "18.410969716788248\n",
            "18.27054365907453\n",
            "18.139235994015117\n",
            "18.097540649719626\n",
            "18.076014471400196\n",
            "18.084031186852126\n",
            "18.131574985661896\n",
            "18.208805820761583\n",
            "18.307130097467457\n",
            "18.430280845277522\n",
            "18.563633289248468\n",
            "18.716521191965725\n",
            "18.87206091149817\n"
          ]
        }
      ],
      "source": [
        "from sklearn.tree import DecisionTreeRegressor\n",
        "\n",
        "maxdr = range(1, 15)\n",
        "\n",
        "RMSE_scores = []\n",
        "\n",
        "from sklearn.model_selection import cross_val_score\n",
        "for depth in maxdr:\n",
        "    treeregular = DecisionTreeRegressor(max_depth=depth, random_state=1)\n",
        "    MSE_scores = cross_val_score(treeregular, X, Y, cv=5, scoring='neg_mean_squared_error')\n",
        "    RMSE_scores.append(np.mean(np.sqrt(-MSE_scores)))\n",
        "    print(mean(RMSE_scores))"
      ]
    },
    {
      "cell_type": "code",
      "execution_count": 43,
      "metadata": {
        "colab": {
          "base_uri": "https://localhost:8080/",
          "height": 280
        },
        "id": "o-nr-ZuNtCRp",
        "outputId": "8434acff-4504-4670-e670-4c449a9d483c"
      },
      "outputs": [
        {
          "data": {
            "image/png": "[encoded data removed]",
            "text/plain": [
              "<Figure size 432x288 with 1 Axes>"
            ]
          },
          "metadata": {
            "needs_background": "light"
          },
          "output_type": "display_data"
        }
      ],
      "source": [
        "plt.plot(maxdr, RMSE_scores);\n",
        "plt.xlabel('max_depth');\n",
        "plt.ylabel('RMSE (the lower the better)');"
      ]
    },
    {
      "cell_type": "code",
      "execution_count": 44,
      "metadata": {
        "colab": {
          "base_uri": "https://localhost:8080/"
        },
        "id": "2ib7rrS4tCTu",
        "outputId": "00d59323-c31c-44e4-d4c5-b3c153953eca"
      },
      "outputs": [
        {
          "data": {
            "text/plain": [
              "(17.745312998836887, 4)"
            ]
          },
          "execution_count": 44,
          "metadata": {},
          "output_type": "execute_result"
        }
      ],
      "source": [
        "sorted(zip(RMSE_scores, maxdr))[0]"
      ]
    },
    {
      "cell_type": "code",
      "execution_count": 45,
      "metadata": {
        "colab": {
          "base_uri": "https://localhost:8080/"
        },
        "id": "2E0l2gWztCXv",
        "outputId": "2864c269-0130-4974-faba-8c183612c787"
      },
      "outputs": [
        {
          "data": {
            "text/plain": [
              "DecisionTreeRegressor(max_depth=10, random_state=1)"
            ]
          },
          "execution_count": 45,
          "metadata": {},
          "output_type": "execute_result"
        }
      ],
      "source": [
        "treeregular = DecisionTreeRegressor(max_depth=10, random_state=1)\n",
        "treeregular.fit(X, Y)"
      ]
    },
    {
      "cell_type": "code",
      "execution_count": 46,
      "metadata": {
        "colab": {
          "base_uri": "https://localhost:8080/",
          "height": 363
        },
        "id": "lTX9T00_tCbm",
        "outputId": "a0d441a3-9ba8-4d28-929c-817545f000f6"
      },
      "outputs": [
        {
          "data": {
            "text/html": [
              "<div>\n",
              "<style scoped>\n",
              "    .dataframe tbody tr th:only-of-type {\n",
              "        vertical-align: middle;\n",
              "    }\n",
              "\n",
              "    .dataframe tbody tr th {\n",
              "        vertical-align: top;\n",
              "    }\n",
              "\n",
              "    .dataframe thead th {\n",
              "        text-align: right;\n",
              "    }\n",
              "</style>\n",
              "<table border=\"1\" class=\"dataframe\">\n",
              "  <thead>\n",
              "    <tr style=\"text-align: right;\">\n",
              "      <th></th>\n",
              "      <th>feature</th>\n",
              "      <th>importance</th>\n",
              "    </tr>\n",
              "  </thead>\n",
              "  <tbody>\n",
              "    <tr>\n",
              "      <th>4</th>\n",
              "      <td>instrumentalness</td>\n",
              "      <td>0.401280</td>\n",
              "    </tr>\n",
              "    <tr>\n",
              "      <th>2</th>\n",
              "      <td>duration_ms</td>\n",
              "      <td>0.140301</td>\n",
              "    </tr>\n",
              "    <tr>\n",
              "      <th>0</th>\n",
              "      <td>acousticness</td>\n",
              "      <td>0.115545</td>\n",
              "    </tr>\n",
              "    <tr>\n",
              "      <th>6</th>\n",
              "      <td>loudness</td>\n",
              "      <td>0.071760</td>\n",
              "    </tr>\n",
              "    <tr>\n",
              "      <th>1</th>\n",
              "      <td>danceability</td>\n",
              "      <td>0.063537</td>\n",
              "    </tr>\n",
              "    <tr>\n",
              "      <th>8</th>\n",
              "      <td>valence</td>\n",
              "      <td>0.058355</td>\n",
              "    </tr>\n",
              "    <tr>\n",
              "      <th>3</th>\n",
              "      <td>energy</td>\n",
              "      <td>0.056643</td>\n",
              "    </tr>\n",
              "    <tr>\n",
              "      <th>7</th>\n",
              "      <td>tempo</td>\n",
              "      <td>0.054504</td>\n",
              "    </tr>\n",
              "    <tr>\n",
              "      <th>5</th>\n",
              "      <td>liveness</td>\n",
              "      <td>0.038076</td>\n",
              "    </tr>\n",
              "  </tbody>\n",
              "</table>\n",
              "</div>"
            ],
            "text/plain": [
              "            feature  importance\n",
              "4  instrumentalness    0.401280\n",
              "2       duration_ms    0.140301\n",
              "0      acousticness    0.115545\n",
              "6          loudness    0.071760\n",
              "1      danceability    0.063537\n",
              "8           valence    0.058355\n",
              "3            energy    0.056643\n",
              "7             tempo    0.054504\n",
              "5          liveness    0.038076"
            ]
          },
          "execution_count": 46,
          "metadata": {},
          "output_type": "execute_result"
        }
      ],
      "source": [
        "pd.DataFrame({'feature':features, 'importance':treeregular.feature_importances_}).sort_values(by='importance', ascending=False)"
      ]
    },
    {
      "cell_type": "markdown",
      "metadata": {
        "id": "Qt6-pTZxtCdf"
      },
      "source": [
        "# Random Forest Regression "
      ]
    },
    {
      "cell_type": "code",
      "execution_count": 47,
      "metadata": {
        "id": "UKIK1NcvtCf-"
      },
      "outputs": [],
      "source": [
        "from sklearn.ensemble import RandomForestRegressor\n",
        "from sklearn.model_selection import RepeatedStratifiedKFold"
      ]
    },
    {
      "cell_type": "code",
      "execution_count": 48,
      "metadata": {
        "colab": {
          "base_uri": "https://localhost:8080/"
        },
        "id": "naXbXt-xtCid",
        "outputId": "09145a8e-0543-4a71-c9aa-47c44b32200d"
      },
      "outputs": [
        {
          "data": {
            "text/plain": [
              "RandomForestRegressor(max_features=5, n_estimators=150, oob_score=True,\n",
              "                      random_state=1)"
            ]
          },
          "execution_count": 48,
          "metadata": {},
          "output_type": "execute_result"
        }
      ],
      "source": [
        "rf = RandomForestRegressor(n_estimators=150,\n",
        "                              max_features=5,\n",
        "                              oob_score=True,\n",
        "                              random_state=1)\n",
        "rf.fit(X, Y)"
      ]
    },
    {
      "cell_type": "code",
      "execution_count": 49,
      "metadata": {
        "colab": {
          "base_uri": "https://localhost:8080/",
          "height": 363
        },
        "id": "yoCVL88gtN5k",
        "outputId": "660bfd54-2a87-4880-e81a-768f135b8946"
      },
      "outputs": [
        {
          "data": {
            "text/html": [
              "<div>\n",
              "<style scoped>\n",
              "    .dataframe tbody tr th:only-of-type {\n",
              "        vertical-align: middle;\n",
              "    }\n",
              "\n",
              "    .dataframe tbody tr th {\n",
              "        vertical-align: top;\n",
              "    }\n",
              "\n",
              "    .dataframe thead th {\n",
              "        text-align: right;\n",
              "    }\n",
              "</style>\n",
              "<table border=\"1\" class=\"dataframe\">\n",
              "  <thead>\n",
              "    <tr style=\"text-align: right;\">\n",
              "      <th></th>\n",
              "      <th>feature</th>\n",
              "      <th>importance</th>\n",
              "    </tr>\n",
              "  </thead>\n",
              "  <tbody>\n",
              "    <tr>\n",
              "      <th>4</th>\n",
              "      <td>instrumentalness</td>\n",
              "      <td>0.219625</td>\n",
              "    </tr>\n",
              "    <tr>\n",
              "      <th>0</th>\n",
              "      <td>acousticness</td>\n",
              "      <td>0.131723</td>\n",
              "    </tr>\n",
              "    <tr>\n",
              "      <th>2</th>\n",
              "      <td>duration_ms</td>\n",
              "      <td>0.122471</td>\n",
              "    </tr>\n",
              "    <tr>\n",
              "      <th>6</th>\n",
              "      <td>loudness</td>\n",
              "      <td>0.099546</td>\n",
              "    </tr>\n",
              "    <tr>\n",
              "      <th>3</th>\n",
              "      <td>energy</td>\n",
              "      <td>0.093128</td>\n",
              "    </tr>\n",
              "    <tr>\n",
              "      <th>1</th>\n",
              "      <td>danceability</td>\n",
              "      <td>0.088225</td>\n",
              "    </tr>\n",
              "    <tr>\n",
              "      <th>8</th>\n",
              "      <td>valence</td>\n",
              "      <td>0.083528</td>\n",
              "    </tr>\n",
              "    <tr>\n",
              "      <th>7</th>\n",
              "      <td>tempo</td>\n",
              "      <td>0.081956</td>\n",
              "    </tr>\n",
              "    <tr>\n",
              "      <th>5</th>\n",
              "      <td>liveness</td>\n",
              "      <td>0.079798</td>\n",
              "    </tr>\n",
              "  </tbody>\n",
              "</table>\n",
              "</div>"
            ],
            "text/plain": [
              "            feature  importance\n",
              "4  instrumentalness    0.219625\n",
              "0      acousticness    0.131723\n",
              "2       duration_ms    0.122471\n",
              "6          loudness    0.099546\n",
              "3            energy    0.093128\n",
              "1      danceability    0.088225\n",
              "8           valence    0.083528\n",
              "7             tempo    0.081956\n",
              "5          liveness    0.079798"
            ]
          },
          "execution_count": 49,
          "metadata": {},
          "output_type": "execute_result"
        }
      ],
      "source": [
        "pd.DataFrame({'feature':features,\n",
        "              'importance':rf.feature_importances_}).sort_values(by='importance', ascending=False)"
      ]
    },
    {
      "cell_type": "code",
      "execution_count": 50,
      "metadata": {
        "colab": {
          "base_uri": "https://localhost:8080/"
        },
        "id": "kaLmQ9gltRls",
        "outputId": "1382b690-8cb3-4b36-8cb0-935a69d58395"
      },
      "outputs": [
        {
          "name": "stdout",
          "output_type": "stream",
          "text": [
            "OOB Score:  0.3644964249932898\n"
          ]
        }
      ],
      "source": [
        "print(\"OOB Score: \", (rf.oob_score_))"
      ]
    },
    {
      "cell_type": "code",
      "execution_count": 51,
      "metadata": {
        "id": "iV2x6WkCtRoK"
      },
      "outputs": [],
      "source": [
        "#evaluate the model\n",
        "#cv = RepeatedStratifiedKFold(n_splits=10, n_repeats=3, random_state=1)\n",
        "#rf_scores = cross_val_score(rf, X, Y, scoring='accuracy', cv=cv, n_jobs=-1, error_score='raise')\n",
        "#print('Accuracy: %.3f (%.3f)' % (mean(rf_scores), std(rf_scores)))"
      ]
    },
    {
      "cell_type": "code",
      "execution_count": 52,
      "metadata": {
        "colab": {
          "base_uri": "https://localhost:8080/"
        },
        "id": "3-FsxeG4tRqf",
        "outputId": "a1298101-9f08-4381-b07d-0de066406b82"
      },
      "outputs": [
        {
          "name": "stdout",
          "output_type": "stream",
          "text": [
            "RMSE:\n"
          ]
        },
        {
          "data": {
            "text/plain": [
              "16.893829732016442"
            ]
          },
          "execution_count": 52,
          "metadata": {},
          "output_type": "execute_result"
        }
      ],
      "source": [
        "scores = cross_val_score(rf, X, Y, cv=5, scoring='neg_mean_squared_error')\n",
        "print(\"RMSE:\")\n",
        "np.mean(np.sqrt(-scores))"
      ]
    },
    {
      "cell_type": "markdown",
      "metadata": {
        "id": "Dik-eBG9GK6u"
      },
      "source": [
        "Classification Learning Models"
      ]
    },
    {
      "cell_type": "markdown",
      "metadata": {
        "id": "VMfiu44XGO_u"
      },
      "source": [
        "KNN"
      ]
    },
    {
      "cell_type": "code",
      "execution_count": 53,
      "metadata": {
        "id": "Fd5sJhzCtR0a"
      },
      "outputs": [],
      "source": [
        "from sklearn.neighbors import KNeighborsClassifier\n",
        "from sklearn.model_selection import train_test_split\n",
        "from sklearn import metrics"
      ]
    },
    {
      "cell_type": "code",
      "execution_count": 54,
      "metadata": {
        "colab": {
          "base_uri": "https://localhost:8080/"
        },
        "id": "ejG073a9tR3x",
        "outputId": "945b22db-48fe-48eb-ff5a-a7b47886fee0"
      },
      "outputs": [
        {
          "data": {
            "text/plain": [
              "0          (62.667, 94.0]\n",
              "1        (-0.094, 31.333]\n",
              "2        (-0.094, 31.333]\n",
              "3        (-0.094, 31.333]\n",
              "4        (-0.094, 31.333]\n",
              "               ...       \n",
              "10944    (31.333, 62.667]\n",
              "10945    (31.333, 62.667]\n",
              "10946    (31.333, 62.667]\n",
              "10947    (31.333, 62.667]\n",
              "10948      (62.667, 94.0]\n",
              "Name: popularity, Length: 10949, dtype: category\n",
              "Categories (3, interval[float64, right]): [(-0.094, 31.333] < (31.333, 62.667] < (62.667, 94.0]]"
            ]
          },
          "execution_count": 54,
          "metadata": {},
          "output_type": "execute_result"
        }
      ],
      "source": [
        "pd.cut(data['popularity'], bins=3)"
      ]
    },
    {
      "cell_type": "code",
      "execution_count": 55,
      "metadata": {},
      "outputs": [],
      "source": [
        "from sklearn import preprocessing"
      ]
    },
    {
      "cell_type": "code",
      "execution_count": 56,
      "metadata": {
        "colab": {
          "base_uri": "https://localhost:8080/"
        },
        "id": "mnx-vc05tR5i",
        "outputId": "740875dd-fe96-4eef-e69e-3088553c59ab"
      },
      "outputs": [
        {
          "data": {
            "text/plain": [
              "Medium    6936\n",
              "Low       2145\n",
              "High      1868\n",
              "Name: popularity, dtype: int64"
            ]
          },
          "execution_count": 56,
          "metadata": {},
          "output_type": "execute_result"
        }
      ],
      "source": [
        "pd.cut(data['popularity'], bins=3, labels = [\"Low\", \"Medium\", \"High\"]).value_counts() # original assortment of the bins\n",
        "\n"
      ]
    },
    {
      "cell_type": "code",
      "execution_count": 58,
      "metadata": {
        "colab": {
          "base_uri": "https://localhost:8080/",
          "height": 513
        },
        "id": "JDMbEwr2tR8r",
        "outputId": "d63917ed-2279-4d41-bba2-058acb76047f"
      },
      "outputs": [],
      "source": [
        "#data.head(5)"
      ]
    },
    {
      "cell_type": "code",
      "execution_count": 59,
      "metadata": {
        "id": "DDM1g73xtR_z"
      },
      "outputs": [],
      "source": [
        "data['popularity'] = pd.cut(data.popularity, bins=3, labels = [\"low\", \"medium\", \"high\"], right = True)"
      ]
    },
    {
      "cell_type": "code",
      "execution_count": 60,
      "metadata": {
        "colab": {
          "base_uri": "https://localhost:8080/",
          "height": 730
        },
        "id": "7S0qlrN4tgb0",
        "outputId": "1cb04d82-4aeb-485a-9782-33aa94056fe9"
      },
      "outputs": [
        {
          "data": {
            "text/html": [
              "<div>\n",
              "<style scoped>\n",
              "    .dataframe tbody tr th:only-of-type {\n",
              "        vertical-align: middle;\n",
              "    }\n",
              "\n",
              "    .dataframe tbody tr th {\n",
              "        vertical-align: top;\n",
              "    }\n",
              "\n",
              "    .dataframe thead th {\n",
              "        text-align: right;\n",
              "    }\n",
              "</style>\n",
              "<table border=\"1\" class=\"dataframe\">\n",
              "  <thead>\n",
              "    <tr style=\"text-align: right;\">\n",
              "      <th></th>\n",
              "      <th>id</th>\n",
              "      <th>name</th>\n",
              "      <th>popularity</th>\n",
              "      <th>duration_ms</th>\n",
              "      <th>explicit</th>\n",
              "      <th>artists</th>\n",
              "      <th>id_artists</th>\n",
              "      <th>release_date</th>\n",
              "      <th>danceability</th>\n",
              "      <th>energy</th>\n",
              "      <th>loudness</th>\n",
              "      <th>speechiness</th>\n",
              "      <th>acousticness</th>\n",
              "      <th>instrumentalness</th>\n",
              "      <th>liveness</th>\n",
              "      <th>valence</th>\n",
              "      <th>tempo</th>\n",
              "      <th>time_signature_1</th>\n",
              "      <th>time_signature_3</th>\n",
              "      <th>time_signature_4</th>\n",
              "      <th>time_signature_5</th>\n",
              "      <th>key_1</th>\n",
              "      <th>key_2</th>\n",
              "      <th>key_3</th>\n",
              "      <th>key_4</th>\n",
              "      <th>key_5</th>\n",
              "      <th>key_6</th>\n",
              "      <th>key_7</th>\n",
              "      <th>key_8</th>\n",
              "      <th>key_9</th>\n",
              "      <th>key_10</th>\n",
              "      <th>key_11</th>\n",
              "      <th>mode_1</th>\n",
              "    </tr>\n",
              "  </thead>\n",
              "  <tbody>\n",
              "    <tr>\n",
              "      <th>0</th>\n",
              "      <td>4zP7ADsgJgHGY6VzxbNp1z</td>\n",
              "      <td>Year 3000</td>\n",
              "      <td>high</td>\n",
              "      <td>201960</td>\n",
              "      <td>0</td>\n",
              "      <td>['Jonas Brothers']</td>\n",
              "      <td>['7gOdHgIoIKoe4i9Tta6qdD']</td>\n",
              "      <td>5/9/2019</td>\n",
              "      <td>0.659</td>\n",
              "      <td>0.857</td>\n",
              "      <td>-5.850</td>\n",
              "      <td>0.0437</td>\n",
              "      <td>0.0045</td>\n",
              "      <td>0.000002</td>\n",
              "      <td>0.3350</td>\n",
              "      <td>0.798</td>\n",
              "      <td>106.965</td>\n",
              "      <td>0</td>\n",
              "      <td>0</td>\n",
              "      <td>1</td>\n",
              "      <td>0</td>\n",
              "      <td>0</td>\n",
              "      <td>0</td>\n",
              "      <td>0</td>\n",
              "      <td>0</td>\n",
              "      <td>0</td>\n",
              "      <td>0</td>\n",
              "      <td>0</td>\n",
              "      <td>0</td>\n",
              "      <td>0</td>\n",
              "      <td>0</td>\n",
              "      <td>1</td>\n",
              "      <td>1</td>\n",
              "    </tr>\n",
              "    <tr>\n",
              "      <th>336</th>\n",
              "      <td>60ynsPSSKe6O3sfwRnIBRf</td>\n",
              "      <td>Streets</td>\n",
              "      <td>high</td>\n",
              "      <td>226987</td>\n",
              "      <td>1</td>\n",
              "      <td>['Doja Cat']</td>\n",
              "      <td>['5cj0lLjcoR7YOSnhnX0Po5']</td>\n",
              "      <td>11/7/2019</td>\n",
              "      <td>0.749</td>\n",
              "      <td>0.463</td>\n",
              "      <td>-8.433</td>\n",
              "      <td>0.0828</td>\n",
              "      <td>0.2080</td>\n",
              "      <td>0.037100</td>\n",
              "      <td>0.3370</td>\n",
              "      <td>0.190</td>\n",
              "      <td>90.028</td>\n",
              "      <td>0</td>\n",
              "      <td>0</td>\n",
              "      <td>1</td>\n",
              "      <td>0</td>\n",
              "      <td>0</td>\n",
              "      <td>0</td>\n",
              "      <td>0</td>\n",
              "      <td>0</td>\n",
              "      <td>0</td>\n",
              "      <td>0</td>\n",
              "      <td>0</td>\n",
              "      <td>0</td>\n",
              "      <td>0</td>\n",
              "      <td>0</td>\n",
              "      <td>1</td>\n",
              "      <td>1</td>\n",
              "    </tr>\n",
              "    <tr>\n",
              "      <th>337</th>\n",
              "      <td>6UelLqGlWMcVH1E5c4H7lY</td>\n",
              "      <td>Watermelon Sugar</td>\n",
              "      <td>high</td>\n",
              "      <td>174000</td>\n",
              "      <td>0</td>\n",
              "      <td>['Harry Styles']</td>\n",
              "      <td>['6KImCVD70vtIoJWnq6nGn3']</td>\n",
              "      <td>12/13/2019</td>\n",
              "      <td>0.548</td>\n",
              "      <td>0.816</td>\n",
              "      <td>-4.209</td>\n",
              "      <td>0.0465</td>\n",
              "      <td>0.1220</td>\n",
              "      <td>0.000000</td>\n",
              "      <td>0.3350</td>\n",
              "      <td>0.557</td>\n",
              "      <td>95.390</td>\n",
              "      <td>0</td>\n",
              "      <td>0</td>\n",
              "      <td>1</td>\n",
              "      <td>0</td>\n",
              "      <td>0</td>\n",
              "      <td>0</td>\n",
              "      <td>0</td>\n",
              "      <td>0</td>\n",
              "      <td>0</td>\n",
              "      <td>0</td>\n",
              "      <td>0</td>\n",
              "      <td>0</td>\n",
              "      <td>0</td>\n",
              "      <td>0</td>\n",
              "      <td>0</td>\n",
              "      <td>1</td>\n",
              "    </tr>\n",
              "    <tr>\n",
              "      <th>339</th>\n",
              "      <td>7qEHsqek33rTcFNT9PFqLf</td>\n",
              "      <td>Someone You Loved</td>\n",
              "      <td>high</td>\n",
              "      <td>182161</td>\n",
              "      <td>0</td>\n",
              "      <td>['Lewis Capaldi']</td>\n",
              "      <td>['4GNC7GD6oZMSxPGyXy4MNB']</td>\n",
              "      <td>5/17/2019</td>\n",
              "      <td>0.501</td>\n",
              "      <td>0.405</td>\n",
              "      <td>-5.679</td>\n",
              "      <td>0.0319</td>\n",
              "      <td>0.7510</td>\n",
              "      <td>0.000000</td>\n",
              "      <td>0.1050</td>\n",
              "      <td>0.446</td>\n",
              "      <td>109.891</td>\n",
              "      <td>0</td>\n",
              "      <td>0</td>\n",
              "      <td>1</td>\n",
              "      <td>0</td>\n",
              "      <td>1</td>\n",
              "      <td>0</td>\n",
              "      <td>0</td>\n",
              "      <td>0</td>\n",
              "      <td>0</td>\n",
              "      <td>0</td>\n",
              "      <td>0</td>\n",
              "      <td>0</td>\n",
              "      <td>0</td>\n",
              "      <td>0</td>\n",
              "      <td>0</td>\n",
              "      <td>1</td>\n",
              "    </tr>\n",
              "    <tr>\n",
              "      <th>340</th>\n",
              "      <td>21jGcNKet2qwijlDFuPiPb</td>\n",
              "      <td>Circles</td>\n",
              "      <td>high</td>\n",
              "      <td>215280</td>\n",
              "      <td>0</td>\n",
              "      <td>['Post Malone']</td>\n",
              "      <td>['246dkjvS1zLTtiykXe5h60']</td>\n",
              "      <td>9/6/2019</td>\n",
              "      <td>0.695</td>\n",
              "      <td>0.762</td>\n",
              "      <td>-3.497</td>\n",
              "      <td>0.0395</td>\n",
              "      <td>0.1920</td>\n",
              "      <td>0.002440</td>\n",
              "      <td>0.0863</td>\n",
              "      <td>0.553</td>\n",
              "      <td>120.042</td>\n",
              "      <td>0</td>\n",
              "      <td>0</td>\n",
              "      <td>1</td>\n",
              "      <td>0</td>\n",
              "      <td>0</td>\n",
              "      <td>0</td>\n",
              "      <td>0</td>\n",
              "      <td>0</td>\n",
              "      <td>0</td>\n",
              "      <td>0</td>\n",
              "      <td>0</td>\n",
              "      <td>0</td>\n",
              "      <td>0</td>\n",
              "      <td>0</td>\n",
              "      <td>0</td>\n",
              "      <td>1</td>\n",
              "    </tr>\n",
              "    <tr>\n",
              "      <th>...</th>\n",
              "      <td>...</td>\n",
              "      <td>...</td>\n",
              "      <td>...</td>\n",
              "      <td>...</td>\n",
              "      <td>...</td>\n",
              "      <td>...</td>\n",
              "      <td>...</td>\n",
              "      <td>...</td>\n",
              "      <td>...</td>\n",
              "      <td>...</td>\n",
              "      <td>...</td>\n",
              "      <td>...</td>\n",
              "      <td>...</td>\n",
              "      <td>...</td>\n",
              "      <td>...</td>\n",
              "      <td>...</td>\n",
              "      <td>...</td>\n",
              "      <td>...</td>\n",
              "      <td>...</td>\n",
              "      <td>...</td>\n",
              "      <td>...</td>\n",
              "      <td>...</td>\n",
              "      <td>...</td>\n",
              "      <td>...</td>\n",
              "      <td>...</td>\n",
              "      <td>...</td>\n",
              "      <td>...</td>\n",
              "      <td>...</td>\n",
              "      <td>...</td>\n",
              "      <td>...</td>\n",
              "      <td>...</td>\n",
              "      <td>...</td>\n",
              "      <td>...</td>\n",
              "    </tr>\n",
              "    <tr>\n",
              "      <th>10841</th>\n",
              "      <td>4P1EGoXLWQ1YF6Nsmr1pfy</td>\n",
              "      <td>You And I</td>\n",
              "      <td>high</td>\n",
              "      <td>224064</td>\n",
              "      <td>0</td>\n",
              "      <td>['LÃON']</td>\n",
              "      <td>['4SqTiwOEdYrNayaGMkc7ia']</td>\n",
              "      <td>3/1/2019</td>\n",
              "      <td>0.554</td>\n",
              "      <td>0.786</td>\n",
              "      <td>-4.288</td>\n",
              "      <td>0.0491</td>\n",
              "      <td>0.0024</td>\n",
              "      <td>0.000000</td>\n",
              "      <td>0.1480</td>\n",
              "      <td>0.358</td>\n",
              "      <td>120.057</td>\n",
              "      <td>0</td>\n",
              "      <td>0</td>\n",
              "      <td>1</td>\n",
              "      <td>0</td>\n",
              "      <td>0</td>\n",
              "      <td>0</td>\n",
              "      <td>0</td>\n",
              "      <td>0</td>\n",
              "      <td>0</td>\n",
              "      <td>0</td>\n",
              "      <td>0</td>\n",
              "      <td>0</td>\n",
              "      <td>1</td>\n",
              "      <td>0</td>\n",
              "      <td>0</td>\n",
              "      <td>1</td>\n",
              "    </tr>\n",
              "    <tr>\n",
              "      <th>10871</th>\n",
              "      <td>0HZgYFimoJG9Ijy8InUWcV</td>\n",
              "      <td>Bad Reputation (feat. Joe Janiak)</td>\n",
              "      <td>high</td>\n",
              "      <td>205417</td>\n",
              "      <td>0</td>\n",
              "      <td>['Avicii', 'Joe Janiak']</td>\n",
              "      <td>['1vCWHaC5f2uS3yhpwWbIA6', '142TY556WknD1ZRV8X...</td>\n",
              "      <td>6/6/2019</td>\n",
              "      <td>0.745</td>\n",
              "      <td>0.637</td>\n",
              "      <td>-5.959</td>\n",
              "      <td>0.0512</td>\n",
              "      <td>0.6560</td>\n",
              "      <td>0.000006</td>\n",
              "      <td>0.0993</td>\n",
              "      <td>0.446</td>\n",
              "      <td>89.995</td>\n",
              "      <td>0</td>\n",
              "      <td>0</td>\n",
              "      <td>1</td>\n",
              "      <td>0</td>\n",
              "      <td>0</td>\n",
              "      <td>0</td>\n",
              "      <td>0</td>\n",
              "      <td>0</td>\n",
              "      <td>0</td>\n",
              "      <td>0</td>\n",
              "      <td>0</td>\n",
              "      <td>0</td>\n",
              "      <td>0</td>\n",
              "      <td>0</td>\n",
              "      <td>0</td>\n",
              "      <td>1</td>\n",
              "    </tr>\n",
              "    <tr>\n",
              "      <th>10884</th>\n",
              "      <td>2K8elWg8ihrZRwZJ7Gy6L3</td>\n",
              "      <td>Come Home To Me</td>\n",
              "      <td>high</td>\n",
              "      <td>225868</td>\n",
              "      <td>0</td>\n",
              "      <td>['LÃON']</td>\n",
              "      <td>['4SqTiwOEdYrNayaGMkc7ia']</td>\n",
              "      <td>3/1/2019</td>\n",
              "      <td>0.660</td>\n",
              "      <td>0.193</td>\n",
              "      <td>-8.904</td>\n",
              "      <td>0.0725</td>\n",
              "      <td>0.9530</td>\n",
              "      <td>0.000000</td>\n",
              "      <td>0.0953</td>\n",
              "      <td>0.296</td>\n",
              "      <td>82.035</td>\n",
              "      <td>0</td>\n",
              "      <td>0</td>\n",
              "      <td>1</td>\n",
              "      <td>0</td>\n",
              "      <td>0</td>\n",
              "      <td>0</td>\n",
              "      <td>0</td>\n",
              "      <td>0</td>\n",
              "      <td>0</td>\n",
              "      <td>0</td>\n",
              "      <td>0</td>\n",
              "      <td>0</td>\n",
              "      <td>0</td>\n",
              "      <td>0</td>\n",
              "      <td>1</td>\n",
              "      <td>1</td>\n",
              "    </tr>\n",
              "    <tr>\n",
              "      <th>10913</th>\n",
              "      <td>6EBlOYNcZ8MrdEov9lEdV6</td>\n",
              "      <td>Hold The Line (feat. A R I Z O N A)</td>\n",
              "      <td>high</td>\n",
              "      <td>171786</td>\n",
              "      <td>0</td>\n",
              "      <td>['Avicii', 'A R I Z O N A']</td>\n",
              "      <td>['1vCWHaC5f2uS3yhpwWbIA6', '7hOGhpa8RMSuDOWntG...</td>\n",
              "      <td>6/6/2019</td>\n",
              "      <td>0.648</td>\n",
              "      <td>0.554</td>\n",
              "      <td>-7.005</td>\n",
              "      <td>0.0341</td>\n",
              "      <td>0.3290</td>\n",
              "      <td>0.000026</td>\n",
              "      <td>0.0803</td>\n",
              "      <td>0.372</td>\n",
              "      <td>98.045</td>\n",
              "      <td>0</td>\n",
              "      <td>0</td>\n",
              "      <td>1</td>\n",
              "      <td>0</td>\n",
              "      <td>0</td>\n",
              "      <td>0</td>\n",
              "      <td>0</td>\n",
              "      <td>0</td>\n",
              "      <td>0</td>\n",
              "      <td>0</td>\n",
              "      <td>0</td>\n",
              "      <td>0</td>\n",
              "      <td>1</td>\n",
              "      <td>0</td>\n",
              "      <td>0</td>\n",
              "      <td>1</td>\n",
              "    </tr>\n",
              "    <tr>\n",
              "      <th>10948</th>\n",
              "      <td>44r4zta6P9flkhKaVnbsvG</td>\n",
              "      <td>Freaks</td>\n",
              "      <td>high</td>\n",
              "      <td>174800</td>\n",
              "      <td>0</td>\n",
              "      <td>['Jordan Clarke']</td>\n",
              "      <td>['14Y3trk7LaslSFTk1G35rx']</td>\n",
              "      <td>2/25/2019</td>\n",
              "      <td>0.674</td>\n",
              "      <td>0.568</td>\n",
              "      <td>-6.356</td>\n",
              "      <td>0.0408</td>\n",
              "      <td>0.1160</td>\n",
              "      <td>0.000000</td>\n",
              "      <td>0.1650</td>\n",
              "      <td>0.640</td>\n",
              "      <td>166.107</td>\n",
              "      <td>0</td>\n",
              "      <td>0</td>\n",
              "      <td>1</td>\n",
              "      <td>0</td>\n",
              "      <td>1</td>\n",
              "      <td>0</td>\n",
              "      <td>0</td>\n",
              "      <td>0</td>\n",
              "      <td>0</td>\n",
              "      <td>0</td>\n",
              "      <td>0</td>\n",
              "      <td>0</td>\n",
              "      <td>0</td>\n",
              "      <td>0</td>\n",
              "      <td>0</td>\n",
              "      <td>1</td>\n",
              "    </tr>\n",
              "  </tbody>\n",
              "</table>\n",
              "<p>1868 rows × 33 columns</p>\n",
              "</div>"
            ],
            "text/plain": [
              "                           id                                 name popularity  \\\n",
              "0      4zP7ADsgJgHGY6VzxbNp1z                            Year 3000       high   \n",
              "336    60ynsPSSKe6O3sfwRnIBRf                              Streets       high   \n",
              "337    6UelLqGlWMcVH1E5c4H7lY                     Watermelon Sugar       high   \n",
              "339    7qEHsqek33rTcFNT9PFqLf                    Someone You Loved       high   \n",
              "340    21jGcNKet2qwijlDFuPiPb                              Circles       high   \n",
              "...                       ...                                  ...        ...   \n",
              "10841  4P1EGoXLWQ1YF6Nsmr1pfy                            You And I       high   \n",
              "10871  0HZgYFimoJG9Ijy8InUWcV    Bad Reputation (feat. Joe Janiak)       high   \n",
              "10884  2K8elWg8ihrZRwZJ7Gy6L3                      Come Home To Me       high   \n",
              "10913  6EBlOYNcZ8MrdEov9lEdV6  Hold The Line (feat. A R I Z O N A)       high   \n",
              "10948  44r4zta6P9flkhKaVnbsvG                               Freaks       high   \n",
              "\n",
              "       duration_ms  explicit                      artists  \\\n",
              "0           201960         0           ['Jonas Brothers']   \n",
              "336         226987         1                 ['Doja Cat']   \n",
              "337         174000         0             ['Harry Styles']   \n",
              "339         182161         0            ['Lewis Capaldi']   \n",
              "340         215280         0              ['Post Malone']   \n",
              "...            ...       ...                          ...   \n",
              "10841       224064         0                    ['LÃON']   \n",
              "10871       205417         0     ['Avicii', 'Joe Janiak']   \n",
              "10884       225868         0                    ['LÃON']   \n",
              "10913       171786         0  ['Avicii', 'A R I Z O N A']   \n",
              "10948       174800         0            ['Jordan Clarke']   \n",
              "\n",
              "                                              id_artists release_date  \\\n",
              "0                             ['7gOdHgIoIKoe4i9Tta6qdD']     5/9/2019   \n",
              "336                           ['5cj0lLjcoR7YOSnhnX0Po5']    11/7/2019   \n",
              "337                           ['6KImCVD70vtIoJWnq6nGn3']   12/13/2019   \n",
              "339                           ['4GNC7GD6oZMSxPGyXy4MNB']    5/17/2019   \n",
              "340                           ['246dkjvS1zLTtiykXe5h60']     9/6/2019   \n",
              "...                                                  ...          ...   \n",
              "10841                         ['4SqTiwOEdYrNayaGMkc7ia']     3/1/2019   \n",
              "10871  ['1vCWHaC5f2uS3yhpwWbIA6', '142TY556WknD1ZRV8X...     6/6/2019   \n",
              "10884                         ['4SqTiwOEdYrNayaGMkc7ia']     3/1/2019   \n",
              "10913  ['1vCWHaC5f2uS3yhpwWbIA6', '7hOGhpa8RMSuDOWntG...     6/6/2019   \n",
              "10948                         ['14Y3trk7LaslSFTk1G35rx']    2/25/2019   \n",
              "\n",
              "       danceability  energy  loudness  speechiness  acousticness  \\\n",
              "0             0.659   0.857    -5.850       0.0437        0.0045   \n",
              "336           0.749   0.463    -8.433       0.0828        0.2080   \n",
              "337           0.548   0.816    -4.209       0.0465        0.1220   \n",
              "339           0.501   0.405    -5.679       0.0319        0.7510   \n",
              "340           0.695   0.762    -3.497       0.0395        0.1920   \n",
              "...             ...     ...       ...          ...           ...   \n",
              "10841         0.554   0.786    -4.288       0.0491        0.0024   \n",
              "10871         0.745   0.637    -5.959       0.0512        0.6560   \n",
              "10884         0.660   0.193    -8.904       0.0725        0.9530   \n",
              "10913         0.648   0.554    -7.005       0.0341        0.3290   \n",
              "10948         0.674   0.568    -6.356       0.0408        0.1160   \n",
              "\n",
              "       instrumentalness  liveness  valence    tempo  time_signature_1  \\\n",
              "0              0.000002    0.3350    0.798  106.965                 0   \n",
              "336            0.037100    0.3370    0.190   90.028                 0   \n",
              "337            0.000000    0.3350    0.557   95.390                 0   \n",
              "339            0.000000    0.1050    0.446  109.891                 0   \n",
              "340            0.002440    0.0863    0.553  120.042                 0   \n",
              "...                 ...       ...      ...      ...               ...   \n",
              "10841          0.000000    0.1480    0.358  120.057                 0   \n",
              "10871          0.000006    0.0993    0.446   89.995                 0   \n",
              "10884          0.000000    0.0953    0.296   82.035                 0   \n",
              "10913          0.000026    0.0803    0.372   98.045                 0   \n",
              "10948          0.000000    0.1650    0.640  166.107                 0   \n",
              "\n",
              "       time_signature_3  time_signature_4  time_signature_5  key_1  key_2  \\\n",
              "0                     0                 1                 0      0      0   \n",
              "336                   0                 1                 0      0      0   \n",
              "337                   0                 1                 0      0      0   \n",
              "339                   0                 1                 0      1      0   \n",
              "340                   0                 1                 0      0      0   \n",
              "...                 ...               ...               ...    ...    ...   \n",
              "10841                 0                 1                 0      0      0   \n",
              "10871                 0                 1                 0      0      0   \n",
              "10884                 0                 1                 0      0      0   \n",
              "10913                 0                 1                 0      0      0   \n",
              "10948                 0                 1                 0      1      0   \n",
              "\n",
              "       key_3  key_4  key_5  key_6  key_7  key_8  key_9  key_10  key_11  mode_1  \n",
              "0          0      0      0      0      0      0      0       0       1       1  \n",
              "336        0      0      0      0      0      0      0       0       1       1  \n",
              "337        0      0      0      0      0      0      0       0       0       1  \n",
              "339        0      0      0      0      0      0      0       0       0       1  \n",
              "340        0      0      0      0      0      0      0       0       0       1  \n",
              "...      ...    ...    ...    ...    ...    ...    ...     ...     ...     ...  \n",
              "10841      0      0      0      0      0      0      1       0       0       1  \n",
              "10871      0      0      0      0      0      0      0       0       0       1  \n",
              "10884      0      0      0      0      0      0      0       0       1       1  \n",
              "10913      0      0      0      0      0      0      1       0       0       1  \n",
              "10948      0      0      0      0      0      0      0       0       0       1  \n",
              "\n",
              "[1868 rows x 33 columns]"
            ]
          },
          "execution_count": 60,
          "metadata": {},
          "output_type": "execute_result"
        }
      ],
      "source": [
        "data.loc[data['popularity']== 'high']"
      ]
    },
    {
      "cell_type": "code",
      "execution_count": 61,
      "metadata": {
        "colab": {
          "base_uri": "https://localhost:8080/"
        },
        "id": "yHsVUEZytgfg",
        "outputId": "44b2f234-8062-45b4-b079-8b46d5bc3d90"
      },
      "outputs": [
        {
          "data": {
            "text/plain": [
              "medium    0.633483\n",
              "low       0.195908\n",
              "high      0.170609\n",
              "Name: popularity, dtype: float64"
            ]
          },
          "execution_count": 61,
          "metadata": {},
          "output_type": "execute_result"
        }
      ],
      "source": [
        "y = data.popularity\n",
        "y.value_counts()/y.count()"
      ]
    },
    {
      "cell_type": "code",
      "execution_count": 62,
      "metadata": {
        "id": "hSxm2160tgiy"
      },
      "outputs": [],
      "source": [
        "pop_count = data.popularity.value_counts()"
      ]
    },
    {
      "cell_type": "markdown",
      "metadata": {},
      "source": [
        "# START HERE- Notes: Split, Oversample, 4 bins "
      ]
    },
    {
      "cell_type": "code",
      "execution_count": 63,
      "metadata": {},
      "outputs": [],
      "source": [
        "X_train, X_test, Y_train, Y_test = train_test_split(X, Y, test_size=.3, random_state=7)"
      ]
    },
    {
      "cell_type": "code",
      "execution_count": 64,
      "metadata": {
        "colab": {
          "base_uri": "https://localhost:8080/"
        },
        "id": "K6pPAfE7tgnc",
        "outputId": "bddd48ff-7951-433b-f12c-680e7d81d954"
      },
      "outputs": [
        {
          "name": "stdout",
          "output_type": "stream",
          "text": [
            "Removed indexes:\n",
            "(44268, 9) (44268,)\n"
          ]
        }
      ],
      "source": [
        "#pip install -U imbalanced-learn\n",
        "\n",
        "from imblearn.under_sampling import RandomUnderSampler\n",
        "from imblearn.over_sampling import RandomOverSampler\n",
        "\n",
        "ro = RandomOverSampler()\n",
        "X_ro, y_ro = ro.fit_resample(X,Y)\n",
        "\n",
        "print('Removed indexes:')\n",
        "\n",
        "print(X_ro.shape, y_ro.shape)"
      ]
    },
    {
      "cell_type": "code",
      "execution_count": 65,
      "metadata": {
        "colab": {
          "base_uri": "https://localhost:8080/"
        },
        "id": "8fCy4wDutgo2",
        "outputId": "707916e3-2c99-4d7b-d5f5-0d3ec3b61651"
      },
      "outputs": [
        {
          "data": {
            "text/plain": [
              "67    476\n",
              "73    476\n",
              "46    476\n",
              "59    476\n",
              "44    476\n",
              "     ... \n",
              "17    476\n",
              "29    476\n",
              "51    476\n",
              "20    476\n",
              "26    476\n",
              "Name: popularity, Length: 93, dtype: int64"
            ]
          },
          "execution_count": 65,
          "metadata": {},
          "output_type": "execute_result"
        }
      ],
      "source": [
        "y_ro.value_counts()"
      ]
    },
    {
      "cell_type": "code",
      "execution_count": 66,
      "metadata": {
        "colab": {
          "base_uri": "https://localhost:8080/"
        },
        "id": "TWFj2vEPtgsn",
        "outputId": "1f83c484-5244-44d0-a159-1177d1a9fc53"
      },
      "outputs": [
        {
          "data": {
            "text/plain": [
              "acousticness  danceability  duration_ms  energy  instrumentalness  liveness  loudness  tempo    valence\n",
              "0.2080        0.749         226987       0.463   0.037100          0.3370    -8.433    90.028   0.190      476\n",
              "0.1220        0.548         174000       0.816   0.000000          0.3350    -4.209    95.390   0.557      476\n",
              "0.7510        0.501         182161       0.405   0.000000          0.1050    -5.679    109.891  0.446      476\n",
              "0.8180        0.450         183624       0.329   0.001090          0.1350    -12.603   71.884   0.266      254\n",
              "0.1920        0.695         215280       0.762   0.002440          0.0863    -3.497    120.042  0.553      222\n",
              "                                                                                                          ... \n",
              "0.2200        0.531         203520       0.616   0.000001          0.3660    -5.507    124.953  0.255        1\n",
              "0.4890        0.759         243693       0.501   0.880000          0.1520    -12.510   118.009  0.446        1\n",
              "0.0859        0.430         169193       0.960   0.000000          0.0617    -2.721    151.920  0.454        1\n",
              "0.0224        0.612         158041       0.539   0.000004          0.0790    -8.411    124.660  0.787        1\n",
              "0.0334        0.498         192424       0.720   0.000000          0.1080    -6.304    88.891   0.148        1\n",
              "Length: 10859, dtype: int64"
            ]
          },
          "execution_count": 66,
          "metadata": {},
          "output_type": "execute_result"
        }
      ],
      "source": [
        "X_ro.value_counts() "
      ]
    },
    {
      "cell_type": "code",
      "execution_count": 67,
      "metadata": {
        "colab": {
          "base_uri": "https://localhost:8080/"
        },
        "id": "7LasXMr7tgv1",
        "outputId": "41e6cb7d-f2ec-416f-b8d6-9cb1d76c73a5"
      },
      "outputs": [
        {
          "data": {
            "text/plain": [
              "KNeighborsClassifier(n_neighbors=1)"
            ]
          },
          "execution_count": 67,
          "metadata": {},
          "output_type": "execute_result"
        }
      ],
      "source": [
        "knn = KNeighborsClassifier(n_neighbors=1)\n",
        "\n",
        "knn.fit(X_ro, y_ro)"
      ]
    },
    {
      "cell_type": "code",
      "execution_count": 68,
      "metadata": {
        "colab": {
          "base_uri": "https://localhost:8080/"
        },
        "id": "LwMhjiRftgzD",
        "outputId": "cece2f9f-e7f7-4159-c8a8-87965642b5bb"
      },
      "outputs": [
        {
          "name": "stdout",
          "output_type": "stream",
          "text": [
            "Mean Accuracy Score:  0.99268094334508\n"
          ]
        }
      ],
      "source": [
        "y_pred_knn = knn.predict(X_ro)\n",
        "\n",
        "print(\"Mean Accuracy Score: \", metrics.accuracy_score(y_ro, y_pred_knn))"
      ]
    },
    {
      "cell_type": "markdown",
      "metadata": {
        "id": "JCMRBe6vGG6K"
      },
      "source": [
        "RANDOM FOREST CLASSIFIER"
      ]
    },
    {
      "cell_type": "code",
      "execution_count": 69,
      "metadata": {
        "colab": {
          "base_uri": "https://localhost:8080/"
        },
        "id": "ly7EGpCgtg2H",
        "outputId": "00e8ce2b-2339-473f-8b3e-ea71068f9610"
      },
      "outputs": [
        {
          "name": "stdout",
          "output_type": "stream",
          "text": [
            "Accuracy: 0.693455098934551\n"
          ]
        }
      ],
      "source": [
        "from sklearn.ensemble import RandomForestClassifier\n",
        "\n",
        "# METHOD 1 - RF\n",
        "\n",
        "X = data[features]\n",
        "Y = data['popularity']\n",
        "# before = 0.7165905631659056 - est = 1000 \n",
        "X_train, X_test, Y_train, Y_test = train_test_split(X, Y, test_size=0.3)\n",
        "clf = RandomForestClassifier(max_depth=5, random_state=None, n_estimators=1000)\n",
        "clf.fit(X_train, Y_train)\n",
        "y_pred=clf.predict(X_test)\n",
        "print(\"Accuracy:\",metrics.accuracy_score(Y_test, y_pred))"
      ]
    },
    {
      "cell_type": "code",
      "execution_count": 70,
      "metadata": {
        "colab": {
          "base_uri": "https://localhost:8080/"
        },
        "id": "h5qv4gUXtg4_",
        "outputId": "cdbfeb0e-e1a7-4910-a35a-9abfc6df3d80"
      },
      "outputs": [
        {
          "name": "stdout",
          "output_type": "stream",
          "text": [
            "Mean Accuracy: 0.717 (0.008)\n"
          ]
        }
      ],
      "source": [
        "# METHOD 2 - RF\n",
        "\n",
        "# define the model\n",
        "model = RandomForestClassifier()\n",
        "\n",
        "# fit the model\n",
        "model.fit(X_train,Y_train)\n",
        "\n",
        "# evaluate the model\n",
        "cv = RepeatedStratifiedKFold(n_splits=10, n_repeats=3, random_state=1)\n",
        "n_scores = cross_val_score(model, X, Y, scoring='accuracy', cv=cv, n_jobs=-1, error_score='raise')\n",
        "# report performance\n",
        "print('Mean Accuracy: %.3f (%.3f)' % (mean(n_scores), np.std(n_scores)))"
      ]
    },
    {
      "cell_type": "code",
      "execution_count": 71,
      "metadata": {},
      "outputs": [],
      "source": [
        "from sklearn.model_selection import GridSearchCV\n",
        "C_list = [0.001, 0.01, 0.1, 1, 10, 100, 1000]\n",
        "Gamma_list = [0.001, 0.01, 0.1, 1, 10, 100, 1000]\n",
        "\n",
        "\n",
        "\n",
        "gscv = GridSearchCV(model, scoring='accuracy', cv =10, \n",
        "    param_grid={\n",
        "        'max_depth' : [4, 5, 6, 7, 8, 9, 10],\n",
        "        'max_features': ['sqrt', 'auto'],\n",
        "        'min_samples_split': [2, 0.3, 0.5],\n",
        "        'min_samples_leaf': [1, 0.3, 0.5]\n",
        "    })"
      ]
    },
    {
      "cell_type": "code",
      "execution_count": 72,
      "metadata": {},
      "outputs": [
        {
          "data": {
            "text/plain": [
              "GridSearchCV(cv=10, estimator=RandomForestClassifier(),\n",
              "             param_grid={'max_depth': [4, 5, 6, 7, 8, 9, 10],\n",
              "                         'max_features': ['sqrt', 'auto'],\n",
              "                         'min_samples_leaf': [1, 0.3, 0.5],\n",
              "                         'min_samples_split': [2, 0.3, 0.5]},\n",
              "             scoring='accuracy')"
            ]
          },
          "execution_count": 72,
          "metadata": {},
          "output_type": "execute_result"
        }
      ],
      "source": [
        "gscv.fit(X_train, Y_train)"
      ]
    },
    {
      "cell_type": "code",
      "execution_count": 73,
      "metadata": {},
      "outputs": [
        {
          "data": {
            "text/html": [
              "<div>\n",
              "<style scoped>\n",
              "    .dataframe tbody tr th:only-of-type {\n",
              "        vertical-align: middle;\n",
              "    }\n",
              "\n",
              "    .dataframe tbody tr th {\n",
              "        vertical-align: top;\n",
              "    }\n",
              "\n",
              "    .dataframe thead th {\n",
              "        text-align: right;\n",
              "    }\n",
              "</style>\n",
              "<table border=\"1\" class=\"dataframe\">\n",
              "  <thead>\n",
              "    <tr style=\"text-align: right;\">\n",
              "      <th></th>\n",
              "      <th>mean_fit_time</th>\n",
              "      <th>std_fit_time</th>\n",
              "      <th>mean_score_time</th>\n",
              "      <th>std_score_time</th>\n",
              "      <th>param_max_depth</th>\n",
              "      <th>param_max_features</th>\n",
              "      <th>param_min_samples_leaf</th>\n",
              "      <th>param_min_samples_split</th>\n",
              "      <th>params</th>\n",
              "      <th>split0_test_score</th>\n",
              "      <th>split1_test_score</th>\n",
              "      <th>split2_test_score</th>\n",
              "      <th>split3_test_score</th>\n",
              "      <th>split4_test_score</th>\n",
              "      <th>split5_test_score</th>\n",
              "      <th>split6_test_score</th>\n",
              "      <th>split7_test_score</th>\n",
              "      <th>split8_test_score</th>\n",
              "      <th>split9_test_score</th>\n",
              "      <th>mean_test_score</th>\n",
              "      <th>std_test_score</th>\n",
              "      <th>rank_test_score</th>\n",
              "    </tr>\n",
              "  </thead>\n",
              "  <tbody>\n",
              "    <tr>\n",
              "      <th>0</th>\n",
              "      <td>1.849487</td>\n",
              "      <td>0.917693</td>\n",
              "      <td>0.049675</td>\n",
              "      <td>0.041452</td>\n",
              "      <td>4</td>\n",
              "      <td>sqrt</td>\n",
              "      <td>1</td>\n",
              "      <td>2</td>\n",
              "      <td>{'max_depth': 4, 'max_features': 'sqrt', 'min_...</td>\n",
              "      <td>0.710561</td>\n",
              "      <td>0.689700</td>\n",
              "      <td>0.714472</td>\n",
              "      <td>0.701434</td>\n",
              "      <td>0.689295</td>\n",
              "      <td>0.697128</td>\n",
              "      <td>0.699739</td>\n",
              "      <td>0.706266</td>\n",
              "      <td>0.697128</td>\n",
              "      <td>0.693211</td>\n",
              "      <td>0.699893</td>\n",
              "      <td>0.008034</td>\n",
              "      <td>13</td>\n",
              "    </tr>\n",
              "    <tr>\n",
              "      <th>1</th>\n",
              "      <td>1.003463</td>\n",
              "      <td>0.053198</td>\n",
              "      <td>0.025807</td>\n",
              "      <td>0.003304</td>\n",
              "      <td>4</td>\n",
              "      <td>sqrt</td>\n",
              "      <td>1</td>\n",
              "      <td>0.3</td>\n",
              "      <td>{'max_depth': 4, 'max_features': 'sqrt', 'min_...</td>\n",
              "      <td>0.704042</td>\n",
              "      <td>0.689700</td>\n",
              "      <td>0.710561</td>\n",
              "      <td>0.692308</td>\n",
              "      <td>0.684073</td>\n",
              "      <td>0.685379</td>\n",
              "      <td>0.690601</td>\n",
              "      <td>0.698433</td>\n",
              "      <td>0.690601</td>\n",
              "      <td>0.680157</td>\n",
              "      <td>0.692585</td>\n",
              "      <td>0.008853</td>\n",
              "      <td>18</td>\n",
              "    </tr>\n",
              "    <tr>\n",
              "      <th>2</th>\n",
              "      <td>1.005499</td>\n",
              "      <td>0.075230</td>\n",
              "      <td>0.028431</td>\n",
              "      <td>0.004130</td>\n",
              "      <td>4</td>\n",
              "      <td>sqrt</td>\n",
              "      <td>1</td>\n",
              "      <td>0.5</td>\n",
              "      <td>{'max_depth': 4, 'max_features': 'sqrt', 'min_...</td>\n",
              "      <td>0.702738</td>\n",
              "      <td>0.687093</td>\n",
              "      <td>0.700130</td>\n",
              "      <td>0.689700</td>\n",
              "      <td>0.685379</td>\n",
              "      <td>0.685379</td>\n",
              "      <td>0.685379</td>\n",
              "      <td>0.698433</td>\n",
              "      <td>0.685379</td>\n",
              "      <td>0.672324</td>\n",
              "      <td>0.689193</td>\n",
              "      <td>0.008579</td>\n",
              "      <td>42</td>\n",
              "    </tr>\n",
              "    <tr>\n",
              "      <th>3</th>\n",
              "      <td>0.570722</td>\n",
              "      <td>0.029344</td>\n",
              "      <td>0.027196</td>\n",
              "      <td>0.004258</td>\n",
              "      <td>4</td>\n",
              "      <td>sqrt</td>\n",
              "      <td>0.3</td>\n",
              "      <td>2</td>\n",
              "      <td>{'max_depth': 4, 'max_features': 'sqrt', 'min_...</td>\n",
              "      <td>0.637549</td>\n",
              "      <td>0.637549</td>\n",
              "      <td>0.637549</td>\n",
              "      <td>0.637549</td>\n",
              "      <td>0.638381</td>\n",
              "      <td>0.637076</td>\n",
              "      <td>0.637076</td>\n",
              "      <td>0.637076</td>\n",
              "      <td>0.637076</td>\n",
              "      <td>0.637076</td>\n",
              "      <td>0.637396</td>\n",
              "      <td>0.000397</td>\n",
              "      <td>43</td>\n",
              "    </tr>\n",
              "    <tr>\n",
              "      <th>4</th>\n",
              "      <td>0.637451</td>\n",
              "      <td>0.074299</td>\n",
              "      <td>0.029521</td>\n",
              "      <td>0.004219</td>\n",
              "      <td>4</td>\n",
              "      <td>sqrt</td>\n",
              "      <td>0.3</td>\n",
              "      <td>0.3</td>\n",
              "      <td>{'max_depth': 4, 'max_features': 'sqrt', 'min_...</td>\n",
              "      <td>0.637549</td>\n",
              "      <td>0.637549</td>\n",
              "      <td>0.637549</td>\n",
              "      <td>0.637549</td>\n",
              "      <td>0.638381</td>\n",
              "      <td>0.637076</td>\n",
              "      <td>0.637076</td>\n",
              "      <td>0.637076</td>\n",
              "      <td>0.637076</td>\n",
              "      <td>0.637076</td>\n",
              "      <td>0.637396</td>\n",
              "      <td>0.000397</td>\n",
              "      <td>43</td>\n",
              "    </tr>\n",
              "  </tbody>\n",
              "</table>\n",
              "</div>"
            ],
            "text/plain": [
              "   mean_fit_time  std_fit_time  mean_score_time  std_score_time  \\\n",
              "0       1.849487      0.917693         0.049675        0.041452   \n",
              "1       1.003463      0.053198         0.025807        0.003304   \n",
              "2       1.005499      0.075230         0.028431        0.004130   \n",
              "3       0.570722      0.029344         0.027196        0.004258   \n",
              "4       0.637451      0.074299         0.029521        0.004219   \n",
              "\n",
              "  param_max_depth param_max_features param_min_samples_leaf  \\\n",
              "0               4               sqrt                      1   \n",
              "1               4               sqrt                      1   \n",
              "2               4               sqrt                      1   \n",
              "3               4               sqrt                    0.3   \n",
              "4               4               sqrt                    0.3   \n",
              "\n",
              "  param_min_samples_split                                             params  \\\n",
              "0                       2  {'max_depth': 4, 'max_features': 'sqrt', 'min_...   \n",
              "1                     0.3  {'max_depth': 4, 'max_features': 'sqrt', 'min_...   \n",
              "2                     0.5  {'max_depth': 4, 'max_features': 'sqrt', 'min_...   \n",
              "3                       2  {'max_depth': 4, 'max_features': 'sqrt', 'min_...   \n",
              "4                     0.3  {'max_depth': 4, 'max_features': 'sqrt', 'min_...   \n",
              "\n",
              "   split0_test_score  split1_test_score  split2_test_score  split3_test_score  \\\n",
              "0           0.710561           0.689700           0.714472           0.701434   \n",
              "1           0.704042           0.689700           0.710561           0.692308   \n",
              "2           0.702738           0.687093           0.700130           0.689700   \n",
              "3           0.637549           0.637549           0.637549           0.637549   \n",
              "4           0.637549           0.637549           0.637549           0.637549   \n",
              "\n",
              "   split4_test_score  split5_test_score  split6_test_score  split7_test_score  \\\n",
              "0           0.689295           0.697128           0.699739           0.706266   \n",
              "1           0.684073           0.685379           0.690601           0.698433   \n",
              "2           0.685379           0.685379           0.685379           0.698433   \n",
              "3           0.638381           0.637076           0.637076           0.637076   \n",
              "4           0.638381           0.637076           0.637076           0.637076   \n",
              "\n",
              "   split8_test_score  split9_test_score  mean_test_score  std_test_score  \\\n",
              "0           0.697128           0.693211         0.699893        0.008034   \n",
              "1           0.690601           0.680157         0.692585        0.008853   \n",
              "2           0.685379           0.672324         0.689193        0.008579   \n",
              "3           0.637076           0.637076         0.637396        0.000397   \n",
              "4           0.637076           0.637076         0.637396        0.000397   \n",
              "\n",
              "   rank_test_score  \n",
              "0               13  \n",
              "1               18  \n",
              "2               42  \n",
              "3               43  \n",
              "4               43  "
            ]
          },
          "execution_count": 73,
          "metadata": {},
          "output_type": "execute_result"
        }
      ],
      "source": [
        "result = pd.DataFrame(gscv.cv_results_)\n",
        "result.head()"
      ]
    },
    {
      "cell_type": "code",
      "execution_count": 137,
      "metadata": {},
      "outputs": [],
      "source": [
        "from sklearn.metrics import roc_curve\n",
        "from sklearn.metrics import roc_auc_score\n",
        "\n",
        "pred = model.predict(X_test)\n",
        "pred_prob = model.predict_proba(X_test)\n",
        "\n",
        "\n",
        "# roc curve for the classes\n",
        "\n",
        "fpr = {}\n",
        "tpr = {}\n",
        "thresh = {}\n",
        "\n",
        "n_class = 3 \n",
        "\n",
        "for i in range(n_class):\n",
        "    fpr[i], tpr[i], thresh[i] = roc_curve(Y_test, pred_prob[:,i], pos_label=i)"
      ]
    },
    {
      "cell_type": "code",
      "execution_count": 75,
      "metadata": {},
      "outputs": [
        {
          "data": {
            "text/plain": [
              "array([[0.26, 0.06, 0.68],\n",
              "       [0.05, 0.43, 0.52],\n",
              "       [0.26, 0.11, 0.63],\n",
              "       ...,\n",
              "       [0.05, 0.29, 0.66],\n",
              "       [0.17, 0.09, 0.74],\n",
              "       [0.48, 0.08, 0.44]])"
            ]
          },
          "execution_count": 75,
          "metadata": {},
          "output_type": "execute_result"
        }
      ],
      "source": [
        "pred_prob"
      ]
    },
    {
      "cell_type": "code",
      "execution_count": 140,
      "metadata": {},
      "outputs": [
        {
          "name": "stdout",
          "output_type": "stream",
          "text": [
            "Average Threshold = 0.563217\n",
            "Best Threshold = 1.980000\n"
          ]
        }
      ],
      "source": [
        "J = fpr[i] - tpr[i]\n",
        "\n",
        "ix = np.argmin(J)\n",
        "best_thresh = thresh[i][ix]\n",
        "avg_thresh = mean(thresh[i])\n",
        "\n",
        "print('Average Threshold = %f' % mean(thresh[i]))\n",
        "\n",
        "print('Best Threshold = %f' % (best_thresh))\n"
      ]
    },
    {
      "cell_type": "markdown",
      "metadata": {},
      "source": [
        "# PREDICTIONS WITH AVERAGE "
      ]
    },
    {
      "cell_type": "code",
      "execution_count": 129,
      "metadata": {},
      "outputs": [],
      "source": [
        "# Defining our variables \n",
        "X = data[features]\n",
        "Y = data['popularity']\n",
        "trackNames = data['name']"
      ]
    },
    {
      "cell_type": "code",
      "execution_count": 133,
      "metadata": {},
      "outputs": [],
      "source": [
        "def PopAssign (popularity, bestThreshold):\n",
        "    values = pd.DataFrame(columns=['popularity'])\n",
        "    for i in range(len(popularity)): \n",
        "        if (max(popularity[i])) >= bestThreshold: \n",
        "            #print((popularity[i]))\n",
        "            values = values.append({'popularity':1, 'name': trackNames[i]} , ignore_index=True)\n",
        "        else: \n",
        "            values = values.append({'popularity':0, 'name': trackNames[i]}, ignore_index=True)\n",
        "    return values "
      ]
    },
    {
      "cell_type": "code",
      "execution_count": 131,
      "metadata": {},
      "outputs": [],
      "source": [
        "testing_thresh = 0.7"
      ]
    },
    {
      "cell_type": "code",
      "execution_count": 132,
      "metadata": {},
      "outputs": [
        {
          "data": {
            "text/plain": [
              "9763"
            ]
          },
          "execution_count": 132,
          "metadata": {},
          "output_type": "execute_result"
        }
      ],
      "source": [
        "np.count_nonzero(pred_prob)"
      ]
    },
    {
      "cell_type": "code",
      "execution_count": 134,
      "metadata": {},
      "outputs": [],
      "source": [
        "# shape 3285 and 3 col\n",
        "\n",
        "p = PopAssign(pred_prob, testing_thresh )"
      ]
    },
    {
      "cell_type": "code",
      "execution_count": 135,
      "metadata": {},
      "outputs": [
        {
          "data": {
            "text/plain": [
              "1    1744\n",
              "0    1541\n",
              "Name: popularity, dtype: int64"
            ]
          },
          "execution_count": 135,
          "metadata": {},
          "output_type": "execute_result"
        }
      ],
      "source": [
        "p['popularity'].value_counts()"
      ]
    },
    {
      "cell_type": "code",
      "execution_count": 136,
      "metadata": {},
      "outputs": [],
      "source": [
        "# sending dataframe to CSV\n",
        "\n",
        "p.to_csv(\"Popularity_Assignments4.csv\")"
      ]
    },
    {
      "cell_type": "markdown",
      "metadata": {
        "id": "itw60jU1JDFh"
      },
      "source": [
        "DECISION TREE CLASSIFIER"
      ]
    },
    {
      "cell_type": "code",
      "execution_count": 138,
      "metadata": {},
      "outputs": [],
      "source": [
        "from sklearn.tree import DecisionTreeClassifier\n",
        "\n",
        "# Defining our variables \n",
        "X = data[features]\n",
        "Y = data['popularity']\n",
        "\n",
        "# Train Test Split\n",
        "X_train, X_test, Y_train, Y_test = train_test_split(X, Y, test_size=0.3)\n"
      ]
    },
    {
      "cell_type": "code",
      "execution_count": 139,
      "metadata": {},
      "outputs": [
        {
          "name": "stdout",
          "output_type": "stream",
          "text": [
            "Mean Accuracy: 0.697 (0.029)\n"
          ]
        }
      ],
      "source": [
        "# Define model \n",
        "dt = DecisionTreeClassifier()\n",
        "\n",
        "# evaluate the model\n",
        "cv = RepeatedStratifiedKFold(n_splits=10, n_repeats=3, random_state=1)\n",
        "n_scores = cross_val_score(model, X, Y, scoring='accuracy', cv=5, n_jobs=-1, error_score='raise')\n",
        "# report performance\n",
        "print('Mean Accuracy: %.3f (%.3f)' % (mean(n_scores), np.std(n_scores)))"
      ]
    },
    {
      "cell_type": "code",
      "execution_count": null,
      "metadata": {
        "id": "cIrAL5sJW0Qf"
      },
      "outputs": [],
      "source": [
        "# TP - song listed on our prediction AND our top50 dataset\n",
        "# FP - song listed on our prediction AND NOT on top50\n",
        "# TN - song not listed on our prediction AND NOT on top50\n",
        "# FN - song not listed on our prediction AND appears on top50 "
      ]
    },
    {
      "cell_type": "code",
      "execution_count": null,
      "metadata": {},
      "outputs": [],
      "source": []
    }
  ],
  "metadata": {
    "colab": {
      "collapsed_sections": [],
      "name": "Group7_Final_Project_Code.ipynb",
      "provenance": []
    },
    "kernelspec": {
      "display_name": "Python 3",
      "name": "python3"
    },
    "language_info": {
      "codemirror_mode": {
        "name": "ipython",
        "version": 3
      },
      "file_extension": ".py",
      "mimetype": "text/x-python",
      "name": "python",
      "nbconvert_exporter": "python",
      "pygments_lexer": "ipython3",
      "version": "3.9.7"
    }
  },
  "nbformat": 4,
  "nbformat_minor": 0
}
